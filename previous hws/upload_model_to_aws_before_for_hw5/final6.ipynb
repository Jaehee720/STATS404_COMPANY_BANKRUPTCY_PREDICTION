{
 "cells": [
  {
   "cell_type": "code",
   "execution_count": 1,
   "metadata": {},
   "outputs": [],
   "source": [
    "import os"
   ]
  },
  {
   "cell_type": "markdown",
   "metadata": {},
   "source": [
    "Third-party libraries:"
   ]
  },
  {
   "cell_type": "code",
   "execution_count": 2,
   "metadata": {},
   "outputs": [],
   "source": [
    "from catboost import CatBoostClassifier\n",
    "from joblib import dump\n",
    "import matplotlib.pyplot as plt\n",
    "import numpy as np\n",
    "import pandas as pd\n",
    "from sklearn import metrics\n",
    "from sklearn.linear_model import LogisticRegression\n",
    "from sklearn.metrics import classification_report\n",
    "from sklearn.metrics import confusion_matrix\n",
    "from sklearn.metrics import precision_recall_curve\n",
    "from sklearn.model_selection import StratifiedKFold\n",
    "from sklearn.model_selection import train_test_split"
   ]
  },
  {
   "cell_type": "markdown",
   "metadata": {},
   "source": [
    "Save location of notebook:"
   ]
  },
  {
   "cell_type": "code",
   "execution_count": 3,
   "metadata": {},
   "outputs": [
    {
     "data": {
      "text/plain": [
       "'/Users/jeongjaehui/Documents/Stats_404/JEONG-JAEHEE'"
      ]
     },
     "execution_count": 3,
     "metadata": {},
     "output_type": "execute_result"
    }
   ],
   "source": [
    "notebook_dir = os.getcwd()\n",
    "notebook_dir"
   ]
  },
  {
   "cell_type": "markdown",
   "metadata": {},
   "source": [
    "In[3]:"
   ]
  },
  {
   "cell_type": "markdown",
   "metadata": {},
   "source": [
    "Path to repository on my machine:"
   ]
  },
  {
   "cell_type": "code",
   "execution_count": 4,
   "metadata": {},
   "outputs": [],
   "source": [
    "bankrupt_dir = \"/Users/jeongjaehui/Documents/Stats_404/JEONG-JAEHEE\""
   ]
  },
  {
   "cell_type": "markdown",
   "metadata": {},
   "source": [
    "In[4]:"
   ]
  },
  {
   "cell_type": "markdown",
   "metadata": {},
   "source": [
    "**Step 3**: Change directories to the repository on your local machine:"
   ]
  },
  {
   "cell_type": "code",
   "execution_count": 5,
   "metadata": {},
   "outputs": [],
   "source": [
    "os.chdir(bankrupt_dir)"
   ]
  },
  {
   "cell_type": "markdown",
   "metadata": {},
   "source": [
    "In[5]:"
   ]
  },
  {
   "cell_type": "markdown",
   "metadata": {},
   "source": [
    "### Step 3-b: Read-in Data<br>\n",
    "Read-in the data using the panda"
   ]
  },
  {
   "cell_type": "code",
   "execution_count": 6,
   "metadata": {},
   "outputs": [],
   "source": [
    "df = pd.read_csv(\"bankrupt_data.csv\", encoding=\"latin-1\")"
   ]
  },
  {
   "cell_type": "markdown",
   "metadata": {},
   "source": [
    "In[6]:"
   ]
  },
  {
   "cell_type": "markdown",
   "metadata": {},
   "source": [
    "df = pd.read_csv(filepath_or_buffer = file_name, encoding = 'latin-1')"
   ]
  },
  {
   "cell_type": "markdown",
   "metadata": {},
   "source": [
    "In[7]:"
   ]
  },
  {
   "cell_type": "markdown",
   "metadata": {},
   "source": [
    "check row and columns"
   ]
  },
  {
   "cell_type": "code",
   "execution_count": 7,
   "metadata": {},
   "outputs": [
    {
     "data": {
      "text/plain": [
       "(6819, 96)"
      ]
     },
     "execution_count": 7,
     "metadata": {},
     "output_type": "execute_result"
    }
   ],
   "source": [
    "df.shape"
   ]
  },
  {
   "cell_type": "markdown",
   "metadata": {},
   "source": [
    "In[8]:"
   ]
  },
  {
   "cell_type": "markdown",
   "metadata": {},
   "source": [
    "check if there are missing values"
   ]
  },
  {
   "cell_type": "code",
   "execution_count": 8,
   "metadata": {},
   "outputs": [
    {
     "name": "stdout",
     "output_type": "stream",
     "text": [
      "<class 'pandas.core.frame.DataFrame'>\n",
      "RangeIndex: 6819 entries, 0 to 6818\n",
      "Data columns (total 96 columns):\n",
      " #   Column                                                               Non-Null Count  Dtype  \n",
      "---  ------                                                               --------------  -----  \n",
      " 0   Bankrupt?                                                            6819 non-null   int64  \n",
      " 1    ROA(C) before interest and depreciation before interest             6819 non-null   float64\n",
      " 2    ROA(A) before interest and % after tax                              6819 non-null   float64\n",
      " 3    ROA(B) before interest and depreciation after tax                   6819 non-null   float64\n",
      " 4    operating gross margin                                              6819 non-null   float64\n",
      " 5    realized sales gross margin                                         6819 non-null   float64\n",
      " 6    operating profit rate                                               6819 non-null   float64\n",
      " 7    tax Pre-net interest rate                                           6819 non-null   float64\n",
      " 8    after-tax net interest rate                                         6819 non-null   float64\n",
      " 9    non-industry income and expenditure/revenue                         6819 non-null   float64\n",
      " 10   continuous interest rate (after tax)                                6819 non-null   float64\n",
      " 11   operating expense rate                                              6819 non-null   float64\n",
      " 12   research and development expense rate                               6819 non-null   float64\n",
      " 13   cash flow rate                                                      6819 non-null   float64\n",
      " 14   interest-bearing debt interest rate                                 6819 non-null   float64\n",
      " 15   tax rate (A)                                                        6819 non-null   float64\n",
      " 16   per Net Share Value (B)                                             6819 non-null   float64\n",
      " 17   Net Value Per Share (A)                                             6819 non-null   float64\n",
      " 18   Net Value Per Share (C)                                             6819 non-null   float64\n",
      " 19   Persistent EPS in the Last Four Seasons                             6819 non-null   float64\n",
      " 20   Cash Flow Per Share                                                 6819 non-null   float64\n",
      " 21   Revenue Per Share (Yuan)                                            6819 non-null   float64\n",
      " 22   Operating Profit Per Share (Yuan)                                   6819 non-null   float64\n",
      " 23   Per Share Net profit before tax (yuan)                              6819 non-null   float64\n",
      " 24   realized sales gross profit growth rate                             6819 non-null   float64\n",
      " 25   operating profit growth rate                                        6819 non-null   float64\n",
      " 26   after-tax net profit growth rate                                    6819 non-null   float64\n",
      " 27   regular net profit growth rate                                      6819 non-null   float64\n",
      " 28   continuous net profit growth rate                                   6819 non-null   float64\n",
      " 29   total asset growth rate                                             6819 non-null   float64\n",
      " 30   net value growth rate                                               6819 non-null   float64\n",
      " 31   total asset return growth rate Ratio                                6819 non-null   float64\n",
      " 32   cash reinvestment %                                                 6819 non-null   float64\n",
      " 33   current ratio                                                       6819 non-null   float64\n",
      " 34   quick ratio                                                         6819 non-null   float64\n",
      " 35   interest expense ratio                                              6819 non-null   float64\n",
      " 36   total debt/total net worth                                          6819 non-null   float64\n",
      " 37   debt ratio %                                                        6819 non-null   float64\n",
      " 38   net worth/assets                                                    6819 non-null   float64\n",
      " 39   long-term fund suitability ratio (A)                                6819 non-null   float64\n",
      " 40   borrowing dependency                                                6819 non-null   float64\n",
      " 41   contingent liabilities/net worth                                    6819 non-null   float64\n",
      " 42   Operating profit/paid-in capital                                    6819 non-null   float64\n",
      " 43   net profit before tax/paid-in capital                               6819 non-null   float64\n",
      " 44   inventory and accounts receivable/net value                         6819 non-null   float64\n",
      " 45   total asset turnover                                                6819 non-null   float64\n",
      " 46   accounts receivable turnover                                        6819 non-null   float64\n",
      " 47   average collection days                                             6819 non-null   float64\n",
      " 48   inventory turnover rate (times)                                     6819 non-null   float64\n",
      " 49   fixed assets Turnover frequency                                     6819 non-null   float64\n",
      " 50   net worth turnover rate (times)                                     6819 non-null   float64\n",
      " 51   revenue per person                                                  6819 non-null   float64\n",
      " 52   operating profit per person                                         6819 non-null   float64\n",
      " 53   allocation rate per person                                          6819 non-null   float64\n",
      " 54   working capital to total assets                                     6819 non-null   float64\n",
      " 55  Quick asset/Total asset                                              6819 non-null   float64\n",
      " 56  current assets/total assets                                          6819 non-null   float64\n",
      " 57  cash / total assets                                                  6819 non-null   float64\n",
      " 58  Quick asset /current liabilities                                     6819 non-null   float64\n",
      " 59  cash / current liability                                             6819 non-null   float64\n",
      " 60  current liability to assets                                          6819 non-null   float64\n",
      " 61  operating funds to liability                                         6819 non-null   float64\n",
      " 62  Inventory/working capital                                            6819 non-null   float64\n",
      " 63  Inventory/current liability                                          6819 non-null   float64\n",
      " 64  current liability / liability                                        6819 non-null   float64\n",
      " 65  working capital/equity                                               6819 non-null   float64\n",
      " 66  current liability/equity                                             6819 non-null   float64\n",
      " 67  long-term liability to current assets                                6819 non-null   float64\n",
      " 68  Retained Earnings/Total assets                                       6819 non-null   float64\n",
      " 69  total income / total expense                                         6819 non-null   float64\n",
      " 70  total expense /assets                                                6819 non-null   float64\n",
      " 71   current asset turnover rate                                         6819 non-null   float64\n",
      " 72   quick asset turnover rate                                           6819 non-null   float64\n",
      " 73   working capitcal turnover rate                                      6819 non-null   float64\n",
      " 74   cash turnover rate                                                  6819 non-null   float64\n",
      " 75   Cash flow to Sales                                                  6819 non-null   float64\n",
      " 76   fix assets to assets                                                6819 non-null   float64\n",
      " 77   current liability to liability                                      6819 non-null   float64\n",
      " 78  current liability to equity                                          6819 non-null   float64\n",
      " 79  equity to long-term liability                                        6819 non-null   float64\n",
      " 80  Cash flow to total assets                                            6819 non-null   float64\n",
      " 81  cash flow to liability                                               6819 non-null   float64\n",
      " 82  CFO to ASSETS                                                        6819 non-null   float64\n",
      " 83  cash flow to equity                                                  6819 non-null   float64\n",
      " 84  current liabilities to current assets                                6819 non-null   float64\n",
      " 85  one if total liabilities exceeds total assets zero otherwise         6819 non-null   int64  \n",
      " 86  net income to total assets                                           6819 non-null   float64\n",
      " 87  total assets to GNP price                                            6819 non-null   float64\n",
      " 88  No-credit interval                                                   6819 non-null   float64\n",
      " 89  Gross profit to Sales                                                6819 non-null   float64\n",
      " 90  Net income to stockholder's Equity                                   6819 non-null   float64\n",
      " 91  liability to equity                                                  6819 non-null   float64\n",
      " 92  Degree of financial leverage (DFL)                                   6819 non-null   float64\n",
      " 93  Interest coverage ratio( Interest expense to EBIT )                  6819 non-null   float64\n",
      " 94  one if net income was negative for the last two year zero otherwise  6819 non-null   int64  \n",
      " 95  equity to liability                                                  6819 non-null   float64\n",
      "dtypes: float64(93), int64(3)\n",
      "memory usage: 5.0 MB\n"
     ]
    }
   ],
   "source": [
    "df.info()\n",
    "# There is no missing value"
   ]
  },
  {
   "cell_type": "markdown",
   "metadata": {},
   "source": [
    "In[9]:"
   ]
  },
  {
   "cell_type": "markdown",
   "metadata": {},
   "source": [
    "remove space from columns"
   ]
  },
  {
   "cell_type": "code",
   "execution_count": 9,
   "metadata": {},
   "outputs": [],
   "source": [
    "a = df.columns.tolist()\n",
    "a = [x.strip(\" \") for x in a]"
   ]
  },
  {
   "cell_type": "code",
   "execution_count": 10,
   "metadata": {},
   "outputs": [],
   "source": [
    "df.columns = a"
   ]
  },
  {
   "cell_type": "markdown",
   "metadata": {},
   "source": [
    "In[10]:"
   ]
  },
  {
   "cell_type": "markdown",
   "metadata": {},
   "source": [
    "Since we have too many features, we will select some features that are meaningful using one of the feature selection methods, filter method."
   ]
  },
  {
   "cell_type": "markdown",
   "metadata": {},
   "source": [
    "step1. Remove the features that have a low correlation with the target value."
   ]
  },
  {
   "cell_type": "code",
   "execution_count": 11,
   "metadata": {},
   "outputs": [],
   "source": [
    "X = df.iloc[:, 1:]\n",
    "y = df[\"Bankrupt?\"]"
   ]
  },
  {
   "cell_type": "code",
   "execution_count": 12,
   "metadata": {},
   "outputs": [
    {
     "name": "stdout",
     "output_type": "stream",
     "text": [
      "net income to total assets                                -0.315457\n",
      "ROA(A) before interest and % after tax                    -0.282941\n",
      "ROA(B) before interest and depreciation after tax         -0.273051\n",
      "ROA(C) before interest and depreciation before interest   -0.260807\n",
      "net worth/assets                                          -0.250161\n",
      "                                                             ...   \n",
      "current liabilities to current assets                      0.171306\n",
      "borrowing dependency                                       0.176543\n",
      "current liability to assets                                0.194494\n",
      "equity to liability                                       -0.083048\n",
      "debt ratio %                                               0.250161\n",
      "Length: 95, dtype: float64\n"
     ]
    }
   ],
   "source": [
    "importances = X.apply(lambda x: x.corr(y))\n",
    "indices = np.argsort(importances)\n",
    "print(importances[indices])"
   ]
  },
  {
   "cell_type": "code",
   "execution_count": 13,
   "metadata": {},
   "outputs": [],
   "source": [
    "names = df.columns[1:]"
   ]
  },
  {
   "cell_type": "code",
   "execution_count": 14,
   "metadata": {},
   "outputs": [
    {
     "data": {
      "text/plain": [
       "<Figure size 1080x1080 with 0 Axes>"
      ]
     },
     "execution_count": 14,
     "metadata": {},
     "output_type": "execute_result"
    },
    {
     "data": {
      "text/plain": [
       "<Figure size 1080x1080 with 0 Axes>"
      ]
     },
     "metadata": {},
     "output_type": "display_data"
    }
   ],
   "source": [
    "plt.figure(figsize=(15, 15))"
   ]
  },
  {
   "cell_type": "code",
   "execution_count": 15,
   "metadata": {},
   "outputs": [
    {
     "data": {
      "image/png": "[encoded data removed]",
      "text/plain": [
       "<Figure size 432x288 with 1 Axes>"
      ]
     },
     "metadata": {
      "needs_background": "light"
     },
     "output_type": "display_data"
    }
   ],
   "source": [
    "plt.title(\"correlation with Bankrupt\")\n",
    "plt.barh(range(len(indices)), importances[indices], color=\"g\", align=\"center\")\n",
    "plt.yticks(range(len(indices)), [names[i] for i in indices])\n",
    "plt.xlabel(\"Relative Importance\")\n",
    "plt.show()"
   ]
  },
  {
   "cell_type": "markdown",
   "metadata": {},
   "source": [
    "In[11]:"
   ]
  },
  {
   "cell_type": "markdown",
   "metadata": {},
   "source": [
    "We will save the features that have a correlation higher than the absolute value of 0.10. Therefore, I will set the treshold to the absolute value of 0.10."
   ]
  },
  {
   "cell_type": "code",
   "execution_count": 16,
   "metadata": {},
   "outputs": [],
   "source": [
    "a = []"
   ]
  },
  {
   "cell_type": "code",
   "execution_count": 17,
   "metadata": {},
   "outputs": [
    {
     "name": "stdout",
     "output_type": "stream",
     "text": [
      "ROA(C) before interest and depreciation before interest\n",
      "ROA(A) before interest and % after tax\n",
      "ROA(B) before interest and depreciation after tax\n",
      "operating gross margin\n",
      "tax rate (A)\n",
      "per Net Share Value (B)\n",
      "Net Value Per Share (A)\n",
      "Net Value Per Share (C)\n",
      "Persistent EPS in the Last Four Seasons\n",
      "Operating Profit Per Share (Yuan)\n",
      "Per Share Net profit before tax (yuan)\n",
      "debt ratio %\n",
      "net worth/assets\n",
      "borrowing dependency\n",
      "Operating profit/paid-in capital\n",
      "net profit before tax/paid-in capital\n",
      "working capital to total assets\n",
      "cash / total assets\n",
      "current liability to assets\n",
      "working capital/equity\n",
      "current liability/equity\n",
      "Retained Earnings/Total assets\n",
      "total expense /assets\n",
      "current liability to equity\n",
      "equity to long-term liability\n",
      "CFO to ASSETS\n",
      "current liabilities to current assets\n",
      "one if total liabilities exceeds total assets zero otherwise\n",
      "net income to total assets\n",
      "Gross profit to Sales\n",
      "Net income to stockholder's Equity\n",
      "liability to equity\n"
     ]
    }
   ],
   "source": [
    "for i in range(0, len(indices)):\n",
    "    if np.abs(importances[i]) > 0.10:\n",
    "        a.append(names[i])\n",
    "        print(names[i])"
   ]
  },
  {
   "cell_type": "code",
   "execution_count": 18,
   "metadata": {},
   "outputs": [
    {
     "name": "stdout",
     "output_type": "stream",
     "text": [
      "32\n"
     ]
    }
   ],
   "source": [
    "print(len(a))"
   ]
  },
  {
   "cell_type": "code",
   "execution_count": 19,
   "metadata": {},
   "outputs": [],
   "source": [
    "X = df.loc[:, a]"
   ]
  },
  {
   "cell_type": "markdown",
   "metadata": {},
   "source": [
    "In[12]:"
   ]
  },
  {
   "cell_type": "markdown",
   "metadata": {},
   "source": [
    "Step2: Remove the features that have a correlation higher than 90% with other independent variables."
   ]
  },
  {
   "cell_type": "code",
   "execution_count": 20,
   "metadata": {},
   "outputs": [],
   "source": [
    "corr = X.corr()"
   ]
  },
  {
   "cell_type": "code",
   "execution_count": 21,
   "metadata": {},
   "outputs": [],
   "source": [
    "columns = np.full((corr.shape[0],), True, dtype=bool)"
   ]
  },
  {
   "cell_type": "code",
   "execution_count": 22,
   "metadata": {},
   "outputs": [],
   "source": [
    "for i in range(corr.shape[0]):\n",
    "    for j in range(i + 1, corr.shape[0]):\n",
    "        if corr.iloc[i, j] >= 0.9:\n",
    "            if columns[j]:\n",
    "                columns[j] = False"
   ]
  },
  {
   "cell_type": "code",
   "execution_count": 23,
   "metadata": {},
   "outputs": [],
   "source": [
    "selected_columns = X.columns[columns]"
   ]
  },
  {
   "cell_type": "code",
   "execution_count": 24,
   "metadata": {},
   "outputs": [
    {
     "name": "stdout",
     "output_type": "stream",
     "text": [
      "21\n"
     ]
    }
   ],
   "source": [
    "print(len(selected_columns))\n",
    "# Now we only have 21 features. I will create a new df with these selected columns and the features that I think it's important."
   ]
  },
  {
   "cell_type": "code",
   "execution_count": 25,
   "metadata": {},
   "outputs": [
    {
     "name": "stdout",
     "output_type": "stream",
     "text": [
      "Index(['Bankrupt?', 'net income to total assets', 'Cash flow to total assets',\n",
      "       'tax Pre-net interest rate',\n",
      "       'inventory and accounts receivable/net value',\n",
      "       'ROA(C) before interest and depreciation before interest',\n",
      "       'operating gross margin', 'tax rate (A)', 'per Net Share Value (B)',\n",
      "       'Persistent EPS in the Last Four Seasons',\n",
      "       'Operating Profit Per Share (Yuan)', 'debt ratio %', 'net worth/assets',\n",
      "       'borrowing dependency', 'working capital to total assets',\n",
      "       'cash / total assets', 'current liability to assets',\n",
      "       'working capital/equity', 'current liability/equity',\n",
      "       'Retained Earnings/Total assets', 'total expense /assets',\n",
      "       'equity to long-term liability', 'CFO to ASSETS',\n",
      "       'current liabilities to current assets',\n",
      "       'one if total liabilities exceeds total assets zero otherwise',\n",
      "       'Net income to stockholder's Equity'],\n",
      "      dtype='object')\n",
      "(6819, 26)\n"
     ]
    }
   ],
   "source": [
    "new_df = pd.concat(\n",
    "    [\n",
    "        df[\n",
    "            [\n",
    "                \"Bankrupt?\",\n",
    "                \"net income to total assets\",\n",
    "                \"Cash flow to total assets\",\n",
    "                \"tax Pre-net interest rate\",\n",
    "                \"inventory and accounts receivable/net value\",\n",
    "            ]\n",
    "        ],\n",
    "        X[selected_columns],\n",
    "    ],\n",
    "    axis=1,\n",
    ")\n",
    "print(new_df.columns)\n",
    "print(new_df.shape)"
   ]
  },
  {
   "cell_type": "markdown",
   "metadata": {},
   "source": [
    "We have 25 features and target."
   ]
  },
  {
   "cell_type": "markdown",
   "metadata": {},
   "source": [
    "In[13]:"
   ]
  },
  {
   "cell_type": "markdown",
   "metadata": {},
   "source": [
    "split the dataset into training and test sets"
   ]
  },
  {
   "cell_type": "code",
   "execution_count": 26,
   "metadata": {},
   "outputs": [],
   "source": [
    "X = new_df.iloc[:, 1:]\n",
    "y = new_df[\"Bankrupt?\"]"
   ]
  },
  {
   "cell_type": "markdown",
   "metadata": {},
   "source": [
    "use K-fold function to split data. 80% of the data will be training set and the rest of it will be test set."
   ]
  },
  {
   "cell_type": "code",
   "execution_count": 27,
   "metadata": {},
   "outputs": [],
   "source": [
    "skf = StratifiedKFold(n_splits=5, shuffle=False)"
   ]
  },
  {
   "cell_type": "code",
   "execution_count": 28,
   "metadata": {},
   "outputs": [
    {
     "name": "stdout",
     "output_type": "stream",
     "text": [
      "TRAIN: [1104 1118 1132 ... 6816 6817 6818] TEST: [   0    1    2 ... 1383 1384 1385]\n",
      "TRAIN: [   0    1    2 ... 6816 6817 6818] TEST: [1104 1118 1132 ... 2796 2797 2798]\n",
      "TRAIN: [   0    1    2 ... 6816 6817 6818] TEST: [1860 1861 1862 ... 4136 4137 4138]\n",
      "TRAIN: [   0    1    2 ... 6816 6817 6818] TEST: [2100 2147 2148 ... 5475 5476 5477]\n",
      "TRAIN: [   0    1    2 ... 5475 5476 5477] TEST: [3749 3908 4071 ... 6816 6817 6818]\n"
     ]
    }
   ],
   "source": [
    "for train_index, test_index in skf.split(X, y):\n",
    "    print(\"TRAIN:\", train_index, \"TEST:\", test_index)\n",
    "    original_Xtrain, original_Xtest = X.iloc[train_index], X.iloc[test_index]\n",
    "    original_ytrain, original_ytest = y.iloc[train_index], y.iloc[test_index]"
   ]
  },
  {
   "cell_type": "markdown",
   "metadata": {},
   "source": [
    "In[14]:"
   ]
  },
  {
   "cell_type": "markdown",
   "metadata": {},
   "source": [
    "Create dictionary of outcome variable labels, per repository:"
   ]
  },
  {
   "cell_type": "code",
   "execution_count": 29,
   "metadata": {},
   "outputs": [],
   "source": [
    "label_dict = {0: \"Stable\", 1: \"Bankruptcy\"}"
   ]
  },
  {
   "cell_type": "markdown",
   "metadata": {},
   "source": [
    "In[15]:"
   ]
  },
  {
   "cell_type": "markdown",
   "metadata": {},
   "source": [
    "check if the percentage of bankruptcy is similar between the train set and the test set"
   ]
  },
  {
   "cell_type": "code",
   "execution_count": 30,
   "metadata": {},
   "outputs": [],
   "source": [
    "train_unique_label, train_counts_label = np.unique(original_ytrain, return_counts=True)\n",
    "test_unique_label, test_counts_label = np.unique(original_ytest, return_counts=True)"
   ]
  },
  {
   "cell_type": "code",
   "execution_count": 31,
   "metadata": {},
   "outputs": [
    {
     "name": "stdout",
     "output_type": "stream",
     "text": [
      "[0.96774194 0.03225806]\n",
      "[0.96771827 0.03228173]\n"
     ]
    }
   ],
   "source": [
    "print(train_counts_label / len(original_ytrain))\n",
    "print(test_counts_label / len(original_ytest))"
   ]
  },
  {
   "cell_type": "markdown",
   "metadata": {},
   "source": [
    "The distribution of bankruptcy is similar to the original dataset."
   ]
  },
  {
   "cell_type": "markdown",
   "metadata": {},
   "source": [
    "In[16]:"
   ]
  },
  {
   "cell_type": "markdown",
   "metadata": {},
   "source": [
    "export a training set and a test set as csv"
   ]
  },
  {
   "cell_type": "code",
   "execution_count": 32,
   "metadata": {},
   "outputs": [],
   "source": [
    "original_Xtrain.to_csv(\n",
    "    r\"C:\\Users\\jeongjaehui\\Documents\\Stats_404\\JEONG-JAEHEE\\bankrupt_training_set.csv\",\n",
    "    index=False,\n",
    "    header=True,\n",
    ")\n",
    "original_Xtest.to_csv(\n",
    "    r\"C:\\Users\\jeongjaehui\\Documents\\Stats_404\\JEONG-JAEHEE\\bankrupt_test_set.csv\",\n",
    "    index=False,\n",
    "    header=True,\n",
    ")"
   ]
  },
  {
   "cell_type": "markdown",
   "metadata": {},
   "source": [
    "In[17]:"
   ]
  },
  {
   "cell_type": "code",
   "execution_count": 33,
   "metadata": {},
   "outputs": [
    {
     "data": {
      "text/plain": [
       "(5456, 25)"
      ]
     },
     "execution_count": 33,
     "metadata": {},
     "output_type": "execute_result"
    }
   ],
   "source": [
    "original_Xtrain.shape"
   ]
  },
  {
   "cell_type": "markdown",
   "metadata": {},
   "source": [
    "In[18]:"
   ]
  },
  {
   "cell_type": "markdown",
   "metadata": {},
   "source": [
    "splite the data into training and valiation sets"
   ]
  },
  {
   "cell_type": "code",
   "execution_count": 34,
   "metadata": {},
   "outputs": [],
   "source": [
    "X_train, X_val, y_train, y_val = train_test_split(\n",
    "    original_Xtrain,\n",
    "    original_ytrain,\n",
    "    test_size=0.1,\n",
    "    random_state=1,\n",
    "    stratify=original_ytrain,\n",
    "    shuffle=True,\n",
    ")"
   ]
  },
  {
   "cell_type": "markdown",
   "metadata": {},
   "source": [
    "In[19]:"
   ]
  },
  {
   "cell_type": "markdown",
   "metadata": {},
   "source": [
    "generate a logistics regression model"
   ]
  },
  {
   "cell_type": "code",
   "execution_count": 35,
   "metadata": {},
   "outputs": [],
   "source": [
    "log_reg = LogisticRegression(class_weight=\"balanced\", max_iter=10000)\n",
    "log_model = log_reg.fit(X_train, y_train)\n",
    "log_pred = log_model.predict(X_val)"
   ]
  },
  {
   "cell_type": "markdown",
   "metadata": {},
   "source": [
    "check a classification"
   ]
  },
  {
   "cell_type": "code",
   "execution_count": 36,
   "metadata": {},
   "outputs": [
    {
     "name": "stdout",
     "output_type": "stream",
     "text": [
      "              precision    recall  f1-score   support\n",
      "\n",
      "           0       1.00      0.83      0.91       528\n",
      "           1       0.16      0.94      0.27        18\n",
      "\n",
      "    accuracy                           0.84       546\n",
      "   macro avg       0.58      0.89      0.59       546\n",
      "weighted avg       0.97      0.84      0.89       546\n",
      "\n"
     ]
    }
   ],
   "source": [
    "print(classification_report(y_val, log_pred))"
   ]
  },
  {
   "cell_type": "code",
   "execution_count": 37,
   "metadata": {},
   "outputs": [
    {
     "name": "stdout",
     "output_type": "stream",
     "text": [
      "                 Predicted Nagative  Predicted Positive\n",
      "Actual Negative                 439                  89\n",
      "Actual Positive                   1                  17\n"
     ]
    }
   ],
   "source": [
    "print(\n",
    "    pd.DataFrame(\n",
    "        confusion_matrix(y_val, log_pred),\n",
    "        columns=[\"Predicted Nagative\", \"Predicted Positive\"],\n",
    "        index=[\"Actual Negative\", \"Actual Positive\"],\n",
    "    )\n",
    ")"
   ]
  },
  {
   "cell_type": "markdown",
   "metadata": {},
   "source": [
    "In[20]:"
   ]
  },
  {
   "cell_type": "code",
   "execution_count": 38,
   "metadata": {},
   "outputs": [],
   "source": [
    "log_pred = log_model.predict(original_Xtest)"
   ]
  },
  {
   "cell_type": "markdown",
   "metadata": {},
   "source": [
    "check a classification"
   ]
  },
  {
   "cell_type": "code",
   "execution_count": 39,
   "metadata": {},
   "outputs": [
    {
     "name": "stdout",
     "output_type": "stream",
     "text": [
      "              precision    recall  f1-score   support\n",
      "\n",
      "           0       1.00      0.92      0.96      1319\n",
      "           1       0.26      0.89      0.41        44\n",
      "\n",
      "    accuracy                           0.92      1363\n",
      "   macro avg       0.63      0.90      0.68      1363\n",
      "weighted avg       0.97      0.92      0.94      1363\n",
      "\n"
     ]
    }
   ],
   "source": [
    "print(classification_report(original_ytest, log_pred))"
   ]
  },
  {
   "cell_type": "code",
   "execution_count": 40,
   "metadata": {},
   "outputs": [
    {
     "name": "stdout",
     "output_type": "stream",
     "text": [
      "                 Predicted Nagative  Predicted Positive\n",
      "Actual Negative                1210                 109\n",
      "Actual Positive                   5                  39\n"
     ]
    }
   ],
   "source": [
    "print(\n",
    "    pd.DataFrame(\n",
    "        confusion_matrix(original_ytest, log_pred),\n",
    "        columns=[\"Predicted Nagative\", \"Predicted Positive\"],\n",
    "        index=[\"Actual Negative\", \"Actual Positive\"],\n",
    "    )\n",
    ")"
   ]
  },
  {
   "cell_type": "markdown",
   "metadata": {},
   "source": [
    "In[21]:"
   ]
  },
  {
   "cell_type": "markdown",
   "metadata": {},
   "source": [
    "check coefficient"
   ]
  },
  {
   "cell_type": "code",
   "execution_count": 41,
   "metadata": {},
   "outputs": [
    {
     "data": {
      "text/plain": [
       "array([-5.98406132, -2.45399101,  0.2222234 , -1.04247674, -8.70014172,\n",
       "       -0.29078314, -1.15978946, -2.953574  , -5.15546299, -1.7638457 ,\n",
       "        6.62767905, -6.62453619,  1.33787312, -3.26018134, -4.80777621,\n",
       "        0.77448516, -0.61847342, -0.09681221, -2.89645895, -0.50268511,\n",
       "        1.16545371, -0.80870428,  1.23302969, -0.16283334, -0.32926271])"
      ]
     },
     "execution_count": 41,
     "metadata": {},
     "output_type": "execute_result"
    }
   ],
   "source": [
    "log_model.coef_[0]"
   ]
  },
  {
   "cell_type": "markdown",
   "metadata": {},
   "source": [
    "In[22]:"
   ]
  },
  {
   "cell_type": "markdown",
   "metadata": {},
   "source": [
    "\n",
    "#fit the best model<br>\n",
    "def cat_model(X_train,y_train,X_val,y_val,threshold):<br>\n",
    "    cat = CatBoostClassifier(iterations=500,<br>\n",
    "                           loss_function='Logloss',<br>\n",
    "                           depth=6,<br>\n",
    "                           l2_leaf_reg=1e-20,<br>\n",
    "                           eval_metric='Accuracy',<br>\n",
    "                           leaf_estimation_iterations=10,<br>\n",
    "                           use_best_model=True,<br>\n",
    "                           logging_level='Silent',<br>\n",
    "                           random_seed=42,<br>\n",
    "                           class_weights = (1, 30)<br>\n",
    "                          )<br>\n",
    "                          <br>\n",
    "    cat_model = cat.fit(X_train,y_train, eval_set = (X_val,y_val))<br>\n",
    "    cat_pred = np.where(cat_model.predict_proba(original_Xtest)[:,1] > threshold, 1, 0)<br>\n",
    "    return(cat_pred)<br>\n",
    "cat_pred = cat_model(X_train,y_train,X_val,y_val, 0.37)<br>\n",
    "print(classification_report(original_ytest, cat_pred))<br>\n",
    "#create a confusion matrix using the validation set<br>\n",
    "int(pd.DataFrame(confusion_matrix(original_ytest, cat_pred), columns = ['Predicted Nagative', 'Predicted Positive'], index = ['Actual Negative', 'Actual Positive']))\n"
   ]
  },
  {
   "cell_type": "markdown",
   "metadata": {},
   "source": [
    "In[23]:"
   ]
  },
  {
   "cell_type": "code",
   "execution_count": 42,
   "metadata": {},
   "outputs": [],
   "source": [
    "cat = CatBoostClassifier(\n",
    "    iterations=500,\n",
    "    loss_function=\"Logloss\",\n",
    "    depth=6,\n",
    "    l2_leaf_reg=1e-20,\n",
    "    eval_metric=\"Accuracy\",\n",
    "    leaf_estimation_iterations=10,\n",
    "    use_best_model=True,\n",
    "    logging_level=\"Silent\",\n",
    "    random_seed=42,\n",
    "    class_weights=(1, 30),\n",
    ")"
   ]
  },
  {
   "cell_type": "code",
   "execution_count": 43,
   "metadata": {},
   "outputs": [],
   "source": [
    "cat_model = cat.fit(X_train, y_train, eval_set=(X_val, y_val))"
   ]
  },
  {
   "cell_type": "markdown",
   "metadata": {},
   "source": [
    "In[24]:"
   ]
  },
  {
   "cell_type": "code",
   "execution_count": 44,
   "metadata": {},
   "outputs": [],
   "source": [
    "cat_pred = cat_model.predict(X_val)"
   ]
  },
  {
   "cell_type": "markdown",
   "metadata": {},
   "source": [
    "In[25]:"
   ]
  },
  {
   "cell_type": "code",
   "execution_count": 45,
   "metadata": {},
   "outputs": [
    {
     "name": "stdout",
     "output_type": "stream",
     "text": [
      "              precision    recall  f1-score   support\n",
      "\n",
      "           0       1.00      0.87      0.93       528\n",
      "           1       0.19      0.89      0.31        18\n",
      "\n",
      "    accuracy                           0.87       546\n",
      "   macro avg       0.59      0.88      0.62       546\n",
      "weighted avg       0.97      0.87      0.91       546\n",
      "\n"
     ]
    }
   ],
   "source": [
    "print(classification_report(y_val, cat_pred))"
   ]
  },
  {
   "cell_type": "markdown",
   "metadata": {},
   "source": [
    "create a confusion matrix using the validation set"
   ]
  },
  {
   "cell_type": "code",
   "execution_count": 46,
   "metadata": {},
   "outputs": [
    {
     "name": "stdout",
     "output_type": "stream",
     "text": [
      "                 Predicted Nagative  Predicted Positive\n",
      "Actual Negative                 460                  68\n",
      "Actual Positive                   2                  16\n"
     ]
    }
   ],
   "source": [
    "print(\n",
    "    pd.DataFrame(\n",
    "        confusion_matrix(y_val, cat_pred),\n",
    "        columns=[\"Predicted Nagative\", \"Predicted Positive\"],\n",
    "        index=[\"Actual Negative\", \"Actual Positive\"],\n",
    "    )\n",
    ")"
   ]
  },
  {
   "cell_type": "markdown",
   "metadata": {},
   "source": [
    "In[26]:"
   ]
  },
  {
   "cell_type": "code",
   "execution_count": 47,
   "metadata": {},
   "outputs": [],
   "source": [
    "cat_pred = cat_model.predict(original_Xtest)"
   ]
  },
  {
   "cell_type": "code",
   "execution_count": 48,
   "metadata": {},
   "outputs": [
    {
     "name": "stdout",
     "output_type": "stream",
     "text": [
      "              precision    recall  f1-score   support\n",
      "\n",
      "           0       0.99      0.92      0.95      1319\n",
      "           1       0.26      0.84      0.39        44\n",
      "\n",
      "    accuracy                           0.92      1363\n",
      "   macro avg       0.62      0.88      0.67      1363\n",
      "weighted avg       0.97      0.92      0.94      1363\n",
      "\n"
     ]
    }
   ],
   "source": [
    "print(classification_report(original_ytest, cat_pred))"
   ]
  },
  {
   "cell_type": "markdown",
   "metadata": {},
   "source": [
    "create a confusion matrix using the validation set"
   ]
  },
  {
   "cell_type": "code",
   "execution_count": 49,
   "metadata": {},
   "outputs": [
    {
     "name": "stdout",
     "output_type": "stream",
     "text": [
      "                 Predicted Nagative  Predicted Positive\n",
      "Actual Negative                1211                 108\n",
      "Actual Positive                   7                  37\n"
     ]
    }
   ],
   "source": [
    "print(\n",
    "    pd.DataFrame(\n",
    "        confusion_matrix(original_ytest, cat_pred),\n",
    "        columns=[\"Predicted Nagative\", \"Predicted Positive\"],\n",
    "        index=[\"Actual Negative\", \"Actual Positive\"],\n",
    "    )\n",
    ")"
   ]
  },
  {
   "cell_type": "markdown",
   "metadata": {},
   "source": [
    "In[27]:"
   ]
  },
  {
   "cell_type": "markdown",
   "metadata": {},
   "source": [
    "generate a precision recall curve to check if we can change the threshold to increase FalseNegative."
   ]
  },
  {
   "cell_type": "code",
   "execution_count": 50,
   "metadata": {},
   "outputs": [],
   "source": [
    "probs = cat_model.predict_proba(original_Xtest)\n",
    "positive_probs = probs[:, 1]"
   ]
  },
  {
   "cell_type": "code",
   "execution_count": 51,
   "metadata": {},
   "outputs": [],
   "source": [
    "precision, recall, thresholds = precision_recall_curve(original_ytest, positive_probs)\n",
    "# retrieve probability of being 1(in second column of probs_y)\n",
    "pr_auc = metrics.auc(recall, precision)"
   ]
  },
  {
   "cell_type": "code",
   "execution_count": 52,
   "metadata": {},
   "outputs": [
    {
     "data": {
      "text/plain": [
       "(0.0, 1.0)"
      ]
     },
     "execution_count": 52,
     "metadata": {},
     "output_type": "execute_result"
    },
    {
     "data": {
      "image/png": "[encoded data removed]",
      "text/plain": [
       "<Figure size 432x288 with 1 Axes>"
      ]
     },
     "metadata": {
      "needs_background": "light"
     },
     "output_type": "display_data"
    }
   ],
   "source": [
    "plt.title(\"Precision-Recall vs Threshold Chart\")\n",
    "plt.plot(thresholds, precision[:-1], \"b--\", label=\"Precision\")\n",
    "plt.plot(thresholds, recall[:-1], \"r--\", label=\"Recall\")\n",
    "plt.ylabel(\"Precision, Recall\")\n",
    "plt.xlabel(\"Threshold\")\n",
    "plt.legend(loc=\"lower left\")\n",
    "plt.ylim([0, 1])"
   ]
  },
  {
   "cell_type": "markdown",
   "metadata": {},
   "source": [
    "In[28]:"
   ]
  },
  {
   "cell_type": "code",
   "execution_count": 53,
   "metadata": {},
   "outputs": [],
   "source": [
    "THRESHOLD = 0.37\n",
    "thre_37_preds_cat = np.where(cat_model.predict_proba(X_val)[:, 1] > THRESHOLD, 1, 0)"
   ]
  },
  {
   "cell_type": "markdown",
   "metadata": {},
   "source": [
    "check a classification"
   ]
  },
  {
   "cell_type": "code",
   "execution_count": 54,
   "metadata": {},
   "outputs": [
    {
     "name": "stdout",
     "output_type": "stream",
     "text": [
      "              precision    recall  f1-score   support\n",
      "\n",
      "           0       1.00      0.71      0.83       528\n",
      "           1       0.10      0.94      0.18        18\n",
      "\n",
      "    accuracy                           0.72       546\n",
      "   macro avg       0.55      0.83      0.50       546\n",
      "weighted avg       0.97      0.72      0.81       546\n",
      "\n"
     ]
    }
   ],
   "source": [
    "print(classification_report(y_val, thre_37_preds_cat))"
   ]
  },
  {
   "cell_type": "code",
   "execution_count": 55,
   "metadata": {},
   "outputs": [
    {
     "name": "stdout",
     "output_type": "stream",
     "text": [
      "                 Predicted Nagative  Predicted Positive\n",
      "Actual Negative                 374                 154\n",
      "Actual Positive                   1                  17\n"
     ]
    }
   ],
   "source": [
    "print(\n",
    "    pd.DataFrame(\n",
    "        confusion_matrix(y_val, thre_37_preds_cat),\n",
    "        columns=[\"Predicted Nagative\", \"Predicted Positive\"],\n",
    "        index=[\"Actual Negative\", \"Actual Positive\"],\n",
    "    )\n",
    ")"
   ]
  },
  {
   "cell_type": "markdown",
   "metadata": {},
   "source": [
    "In[29]:"
   ]
  },
  {
   "cell_type": "code",
   "execution_count": 56,
   "metadata": {},
   "outputs": [],
   "source": [
    "thre_37_preds_cat = np.where(\n",
    "    cat_model.predict_proba(original_Xtest)[:, 1] > THRESHOLD, 1, 0\n",
    ")"
   ]
  },
  {
   "cell_type": "markdown",
   "metadata": {},
   "source": [
    "check a classification"
   ]
  },
  {
   "cell_type": "code",
   "execution_count": 57,
   "metadata": {},
   "outputs": [
    {
     "name": "stdout",
     "output_type": "stream",
     "text": [
      "              precision    recall  f1-score   support\n",
      "\n",
      "           0       1.00      0.82      0.90      1319\n",
      "           1       0.15      0.95      0.26        44\n",
      "\n",
      "    accuracy                           0.83      1363\n",
      "   macro avg       0.58      0.89      0.58      1363\n",
      "weighted avg       0.97      0.83      0.88      1363\n",
      "\n"
     ]
    }
   ],
   "source": [
    "print(classification_report(original_ytest, thre_37_preds_cat))"
   ]
  },
  {
   "cell_type": "code",
   "execution_count": 58,
   "metadata": {},
   "outputs": [
    {
     "name": "stdout",
     "output_type": "stream",
     "text": [
      "                 Predicted Negative  Predicted Positive\n",
      "Actual Negative                1085                 234\n",
      "Actual Positive                   2                  42\n"
     ]
    }
   ],
   "source": [
    "print(\n",
    "    pd.DataFrame(\n",
    "        confusion_matrix(original_ytest, thre_37_preds_cat),\n",
    "        columns=[\"Predicted Negative\", \"Predicted Positive\"],\n",
    "        index=[\"Actual Negative\", \"Actual Positive\"],\n",
    "    )\n",
    ")"
   ]
  },
  {
   "cell_type": "markdown",
   "metadata": {},
   "source": [
    "In[30]:"
   ]
  },
  {
   "cell_type": "markdown",
   "metadata": {},
   "source": [
    "check features' importance of this model"
   ]
  },
  {
   "cell_type": "code",
   "execution_count": 59,
   "metadata": {},
   "outputs": [],
   "source": [
    "feat_imp_cat = cat_model.get_feature_importance(prettified=True)"
   ]
  },
  {
   "cell_type": "code",
   "execution_count": 60,
   "metadata": {},
   "outputs": [],
   "source": [
    "feat_imp_cat = cat_model.get_feature_importance(prettified=True)\n",
    "# important_features[0] = important_features[0].iloc[:,0]"
   ]
  },
  {
   "cell_type": "code",
   "execution_count": 61,
   "metadata": {},
   "outputs": [
    {
     "data": {
      "text/html": [
       "<div>\n",
       "<style scoped>\n",
       "    .dataframe tbody tr th:only-of-type {\n",
       "        vertical-align: middle;\n",
       "    }\n",
       "\n",
       "    .dataframe tbody tr th {\n",
       "        vertical-align: top;\n",
       "    }\n",
       "\n",
       "    .dataframe thead th {\n",
       "        text-align: right;\n",
       "    }\n",
       "</style>\n",
       "<table border=\"1\" class=\"dataframe\">\n",
       "  <thead>\n",
       "    <tr style=\"text-align: right;\">\n",
       "      <th></th>\n",
       "      <th>Feature Id</th>\n",
       "      <th>Importances</th>\n",
       "    </tr>\n",
       "  </thead>\n",
       "  <tbody>\n",
       "    <tr>\n",
       "      <th>0</th>\n",
       "      <td>net income to total assets</td>\n",
       "      <td>10.974931</td>\n",
       "    </tr>\n",
       "    <tr>\n",
       "      <th>1</th>\n",
       "      <td>ROA(C) before interest and depreciation before...</td>\n",
       "      <td>10.602950</td>\n",
       "    </tr>\n",
       "    <tr>\n",
       "      <th>2</th>\n",
       "      <td>tax rate (A)</td>\n",
       "      <td>9.431715</td>\n",
       "    </tr>\n",
       "    <tr>\n",
       "      <th>3</th>\n",
       "      <td>borrowing dependency</td>\n",
       "      <td>7.735259</td>\n",
       "    </tr>\n",
       "    <tr>\n",
       "      <th>4</th>\n",
       "      <td>per Net Share Value (B)</td>\n",
       "      <td>6.955354</td>\n",
       "    </tr>\n",
       "    <tr>\n",
       "      <th>5</th>\n",
       "      <td>current liability to assets</td>\n",
       "      <td>6.548995</td>\n",
       "    </tr>\n",
       "    <tr>\n",
       "      <th>6</th>\n",
       "      <td>debt ratio %</td>\n",
       "      <td>6.199320</td>\n",
       "    </tr>\n",
       "    <tr>\n",
       "      <th>7</th>\n",
       "      <td>Net income to stockholder's Equity</td>\n",
       "      <td>5.740637</td>\n",
       "    </tr>\n",
       "    <tr>\n",
       "      <th>8</th>\n",
       "      <td>net worth/assets</td>\n",
       "      <td>4.674117</td>\n",
       "    </tr>\n",
       "    <tr>\n",
       "      <th>9</th>\n",
       "      <td>total expense /assets</td>\n",
       "      <td>3.959321</td>\n",
       "    </tr>\n",
       "    <tr>\n",
       "      <th>10</th>\n",
       "      <td>cash / total assets</td>\n",
       "      <td>3.899601</td>\n",
       "    </tr>\n",
       "    <tr>\n",
       "      <th>11</th>\n",
       "      <td>CFO to ASSETS</td>\n",
       "      <td>3.672636</td>\n",
       "    </tr>\n",
       "    <tr>\n",
       "      <th>12</th>\n",
       "      <td>working capital/equity</td>\n",
       "      <td>3.382548</td>\n",
       "    </tr>\n",
       "    <tr>\n",
       "      <th>13</th>\n",
       "      <td>working capital to total assets</td>\n",
       "      <td>3.038277</td>\n",
       "    </tr>\n",
       "    <tr>\n",
       "      <th>14</th>\n",
       "      <td>Persistent EPS in the Last Four Seasons</td>\n",
       "      <td>3.028122</td>\n",
       "    </tr>\n",
       "    <tr>\n",
       "      <th>15</th>\n",
       "      <td>Cash flow to total assets</td>\n",
       "      <td>2.813593</td>\n",
       "    </tr>\n",
       "    <tr>\n",
       "      <th>16</th>\n",
       "      <td>Retained Earnings/Total assets</td>\n",
       "      <td>2.722069</td>\n",
       "    </tr>\n",
       "    <tr>\n",
       "      <th>17</th>\n",
       "      <td>current liability/equity</td>\n",
       "      <td>1.829791</td>\n",
       "    </tr>\n",
       "    <tr>\n",
       "      <th>18</th>\n",
       "      <td>inventory and accounts receivable/net value</td>\n",
       "      <td>1.092489</td>\n",
       "    </tr>\n",
       "    <tr>\n",
       "      <th>19</th>\n",
       "      <td>current liabilities to current assets</td>\n",
       "      <td>0.945462</td>\n",
       "    </tr>\n",
       "    <tr>\n",
       "      <th>20</th>\n",
       "      <td>operating gross margin</td>\n",
       "      <td>0.405589</td>\n",
       "    </tr>\n",
       "    <tr>\n",
       "      <th>21</th>\n",
       "      <td>equity to long-term liability</td>\n",
       "      <td>0.347225</td>\n",
       "    </tr>\n",
       "  </tbody>\n",
       "</table>\n",
       "</div>"
      ],
      "text/plain": [
       "                                           Feature Id  Importances\n",
       "0                          net income to total assets    10.974931\n",
       "1   ROA(C) before interest and depreciation before...    10.602950\n",
       "2                                        tax rate (A)     9.431715\n",
       "3                                borrowing dependency     7.735259\n",
       "4                             per Net Share Value (B)     6.955354\n",
       "5                         current liability to assets     6.548995\n",
       "6                                        debt ratio %     6.199320\n",
       "7                  Net income to stockholder's Equity     5.740637\n",
       "8                                    net worth/assets     4.674117\n",
       "9                               total expense /assets     3.959321\n",
       "10                                cash / total assets     3.899601\n",
       "11                                      CFO to ASSETS     3.672636\n",
       "12                             working capital/equity     3.382548\n",
       "13                    working capital to total assets     3.038277\n",
       "14            Persistent EPS in the Last Four Seasons     3.028122\n",
       "15                          Cash flow to total assets     2.813593\n",
       "16                     Retained Earnings/Total assets     2.722069\n",
       "17                           current liability/equity     1.829791\n",
       "18        inventory and accounts receivable/net value     1.092489\n",
       "19              current liabilities to current assets     0.945462\n",
       "20                             operating gross margin     0.405589\n",
       "21                      equity to long-term liability     0.347225"
      ]
     },
     "execution_count": 61,
     "metadata": {},
     "output_type": "execute_result"
    }
   ],
   "source": [
    "important_features"
   ]
  },
  {
   "cell_type": "markdown",
   "metadata": {},
   "source": [
    "In[31]:"
   ]
  },
  {
   "cell_type": "markdown",
   "metadata": {},
   "source": [
    "Specify location and name of object to contain estimated model:"
   ]
  },
  {
   "cell_type": "code",
   "execution_count": 62,
   "metadata": {},
   "outputs": [],
   "source": [
    "model_object_path = os.path.join(notebook_dir, \"cat_model.joblib\")"
   ]
  },
  {
   "cell_type": "markdown",
   "metadata": {},
   "source": [
    "In[32]:"
   ]
  },
  {
   "cell_type": "markdown",
   "metadata": {},
   "source": [
    "Save estimated model to specified location:"
   ]
  },
  {
   "cell_type": "code",
   "execution_count": 63,
   "metadata": {},
   "outputs": [
    {
     "data": {
      "text/plain": [
       "['/Users/jeongjaehui/Documents/Stats_404/JEONG-JAEHEE/cat_model.joblib']"
      ]
     },
     "execution_count": 63,
     "metadata": {},
     "output_type": "execute_result"
    }
   ],
   "source": [
    "dump(cat_model, model_object_path)"
   ]
  },
  {
   "cell_type": "markdown",
   "metadata": {},
   "source": [
    "In[ ]:"
   ]
  }
 ],
 "metadata": {
  "kernelspec": {
   "display_name": "Python 3",
   "language": "python",
   "name": "python3"
  },
  "language_info": {
   "codemirror_mode": {
    "name": "ipython",
    "version": 3
   },
   "file_extension": ".py",
   "mimetype": "text/x-python",
   "name": "python",
   "nbconvert_exporter": "python",
   "pygments_lexer": "ipython3",
   "version": "3.8.5"
  }
 },
 "nbformat": 4,
 "nbformat_minor": 4
}
