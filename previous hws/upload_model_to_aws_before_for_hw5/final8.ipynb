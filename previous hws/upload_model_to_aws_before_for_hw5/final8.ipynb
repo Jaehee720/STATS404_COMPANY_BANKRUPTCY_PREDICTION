{
 "cells": [
  {
   "cell_type": "code",
   "execution_count": 1,
   "metadata": {},
   "outputs": [],
   "source": [
    "# Standard libraries:\n",
    "import os\n",
    "import logging\n",
    "\n",
    "# Third-party libraries:\n",
    "import boto3\n",
    "from catboost import CatBoostClassifier\n",
    "import joblib\n",
    "from joblib import dump\n",
    "import matplotlib.pyplot as plt\n",
    "import numpy as np\n",
    "import pandas as pd\n",
    "import s3fs\n",
    "from sklearn import metrics\n",
    "from sklearn.linear_model import LogisticRegression\n",
    "from sklearn.metrics import classification_report\n",
    "from sklearn.metrics import confusion_matrix\n",
    "from sklearn.metrics import precision_recall_curve\n",
    "from sklearn.model_selection import StratifiedKFold\n",
    "from sklearn.model_selection import train_test_split"
   ]
  },
  {
   "cell_type": "code",
   "execution_count": 2,
   "metadata": {},
   "outputs": [
    {
     "data": {
      "text/plain": [
       "'/Users/jeongjaehui/Documents/Stats_404/JEONG-JAEHEE'"
      ]
     },
     "execution_count": 2,
     "metadata": {},
     "output_type": "execute_result"
    }
   ],
   "source": [
    "# Save location of notebook:\n",
    "notebook_dir = os.getcwd()\n",
    "notebook_dir"
   ]
  },
  {
   "cell_type": "code",
   "execution_count": 3,
   "metadata": {},
   "outputs": [],
   "source": [
    "# Path to repository on my machine:\n",
    "bankrupt_dir = \"/Users/jeongjaehui/Documents/Stats_404/JEONG-JAEHEE\""
   ]
  },
  {
   "cell_type": "code",
   "execution_count": 4,
   "metadata": {},
   "outputs": [],
   "source": [
    "# **Step 3**: Change directories to the repository on your local machine:\n",
    "\n",
    "os.chdir(bankrupt_dir)"
   ]
  },
  {
   "cell_type": "code",
   "execution_count": 5,
   "metadata": {},
   "outputs": [],
   "source": [
    "logging.basicConfig(level=logging.INFO)\n",
    "# Define one logger for current file, per\n",
    "# https://www.loggly.com/blog/4-reasons-a-python-logging-library-is-much-better-than-putting-print-statements-everywhere/\n",
    "LOGGER = logging.getLogger(__name__)"
   ]
  },
  {
   "cell_type": "code",
   "execution_count": 6,
   "metadata": {},
   "outputs": [],
   "source": [
    "BUCKET_NAME = \"stats404-project-jaehee\"\n",
    "KEY_NAME_DATA = \"bankrupt_data.csv\"\n",
    "KEY_NAME_MODEL = \"cat_model.joblib\"\n",
    "FILE_NAME = \"s3://stats404-project-jaehee/bankrupt_data.csv\""
   ]
  },
  {
   "cell_type": "code",
   "execution_count": 7,
   "metadata": {},
   "outputs": [
    {
     "name": "stderr",
     "output_type": "stream",
     "text": [
      "INFO:__main__:--- Part 1: Connect to S3 Bucket on AWS\n",
      "INFO:botocore.credentials:Found credentials in shared credentials file: ~/.aws/credentials\n",
      "INFO:botocore.credentials:Found credentials in shared credentials file: ~/.aws/credentials\n",
      "INFO:__main__:List of buckets currently available on AWS S3:\n",
      "INFO:__main__:    stats404-project-jaehee\n",
      "INFO:__main__:List of objects in bucket stats404-project-jaehee:\n",
      "INFO:__main__:    bankrupt_data.csv\n",
      "INFO:__main__:    cat_model.joblib\n",
      "INFO:__main__:--- Part 2: Download CSV File from S3 Bucket\n",
      "INFO:__main__:    Download a dataset for bankruptcy\n",
      "INFO:botocore.credentials:Found credentials in shared credentials file: ~/.aws/credentials\n"
     ]
    }
   ],
   "source": [
    "if __name__ == '__main__':\n",
    "    ### ---------------------------------------------------------------------------\n",
    "    ### --- Part 1: Connect to S3 Bucket on AWS\n",
    "    ### ---------------------------------------------------------------------------\n",
    "    LOGGER.info(\"--- Part 1: Connect to S3 Bucket on AWS\")\n",
    "    \n",
    "    # Approach 1:\n",
    "    s3 = boto3.resource('s3')\n",
    "\n",
    "    # Approach 2:\n",
    "    # - anon=False: use AWS credentials to connect to file system, not as an anonymous user\n",
    "    s3_fs = s3fs.S3FileSystem(anon=False)\n",
    "    LOGGER.info(\"List of buckets currently available on AWS S3:\")\n",
    "    for bucket in s3.buckets.all():\n",
    "        if bucket.name == BUCKET_NAME:\n",
    "            LOGGER.info(f\"    {bucket.name}\")\n",
    "    LOGGER.info(f\"List of objects in bucket {BUCKET_NAME}:\")\n",
    "    for file in s3.Bucket(BUCKET_NAME).objects.all():\n",
    "        LOGGER.info(f\"    {file.key}\")\n",
    "\n",
    "    ### ---------------------------------------------------------------------------\n",
    "    ### --- Part 2: Download CSV File from S3 Bucket\n",
    "    ### ---------------------------------------------------------------------------\n",
    "    LOGGER.info(\"--- Part 2: Download CSV File from S3 Bucket\")\n",
    "\n",
    "    # --- Download  the dataset in my S3 Bucket and save as df:\n",
    "    LOGGER.info(\"    Download a dataset for bankruptcy\")\n",
    "    df = pd.read_csv(filepath_or_buffer=FILE_NAME,\n",
    "                     encoding='latin-1',\n",
    "                     nrows=6819,\n",
    "                     index_col=0\n",
    "                    )"
   ]
  },
  {
   "cell_type": "code",
   "execution_count": 8,
   "metadata": {},
   "outputs": [
    {
     "data": {
      "text/html": [
       "<div>\n",
       "<style scoped>\n",
       "    .dataframe tbody tr th:only-of-type {\n",
       "        vertical-align: middle;\n",
       "    }\n",
       "\n",
       "    .dataframe tbody tr th {\n",
       "        vertical-align: top;\n",
       "    }\n",
       "\n",
       "    .dataframe thead th {\n",
       "        text-align: right;\n",
       "    }\n",
       "</style>\n",
       "<table border=\"1\" class=\"dataframe\">\n",
       "  <thead>\n",
       "    <tr style=\"text-align: right;\">\n",
       "      <th></th>\n",
       "      <th>Bankrupt?</th>\n",
       "      <th>ROA(C) before interest and depreciation before interest</th>\n",
       "      <th>ROA(A) before interest and % after tax</th>\n",
       "      <th>ROA(B) before interest and depreciation after tax</th>\n",
       "      <th>operating gross margin</th>\n",
       "      <th>realized sales gross margin</th>\n",
       "      <th>operating profit rate</th>\n",
       "      <th>tax Pre-net interest rate</th>\n",
       "      <th>after-tax net interest rate</th>\n",
       "      <th>non-industry income and expenditure/revenue</th>\n",
       "      <th>...</th>\n",
       "      <th>net income to total assets</th>\n",
       "      <th>total assets to GNP price</th>\n",
       "      <th>No-credit interval</th>\n",
       "      <th>Gross profit to Sales</th>\n",
       "      <th>Net income to stockholder's Equity</th>\n",
       "      <th>liability to equity</th>\n",
       "      <th>Degree of financial leverage (DFL)</th>\n",
       "      <th>Interest coverage ratio( Interest expense to EBIT )</th>\n",
       "      <th>one if net income was negative for the last two year zero otherwise</th>\n",
       "      <th>equity to liability</th>\n",
       "    </tr>\n",
       "  </thead>\n",
       "  <tbody>\n",
       "    <tr>\n",
       "      <th>0</th>\n",
       "      <td>1</td>\n",
       "      <td>0.370594</td>\n",
       "      <td>0.424389</td>\n",
       "      <td>0.405750</td>\n",
       "      <td>0.601457</td>\n",
       "      <td>0.601457</td>\n",
       "      <td>0.998969</td>\n",
       "      <td>0.796887</td>\n",
       "      <td>0.808809</td>\n",
       "      <td>0.302646</td>\n",
       "      <td>...</td>\n",
       "      <td>0.716845</td>\n",
       "      <td>0.009219</td>\n",
       "      <td>0.622879</td>\n",
       "      <td>0.601453</td>\n",
       "      <td>0.827890</td>\n",
       "      <td>0.290202</td>\n",
       "      <td>0.026601</td>\n",
       "      <td>0.564050</td>\n",
       "      <td>1</td>\n",
       "      <td>0.016469</td>\n",
       "    </tr>\n",
       "    <tr>\n",
       "      <th>1</th>\n",
       "      <td>1</td>\n",
       "      <td>0.464291</td>\n",
       "      <td>0.538214</td>\n",
       "      <td>0.516730</td>\n",
       "      <td>0.610235</td>\n",
       "      <td>0.610235</td>\n",
       "      <td>0.998946</td>\n",
       "      <td>0.797380</td>\n",
       "      <td>0.809301</td>\n",
       "      <td>0.303556</td>\n",
       "      <td>...</td>\n",
       "      <td>0.795297</td>\n",
       "      <td>0.008323</td>\n",
       "      <td>0.623652</td>\n",
       "      <td>0.610237</td>\n",
       "      <td>0.839969</td>\n",
       "      <td>0.283846</td>\n",
       "      <td>0.264577</td>\n",
       "      <td>0.570175</td>\n",
       "      <td>1</td>\n",
       "      <td>0.020794</td>\n",
       "    </tr>\n",
       "    <tr>\n",
       "      <th>2</th>\n",
       "      <td>1</td>\n",
       "      <td>0.426071</td>\n",
       "      <td>0.499019</td>\n",
       "      <td>0.472295</td>\n",
       "      <td>0.601450</td>\n",
       "      <td>0.601364</td>\n",
       "      <td>0.998857</td>\n",
       "      <td>0.796403</td>\n",
       "      <td>0.808388</td>\n",
       "      <td>0.302035</td>\n",
       "      <td>...</td>\n",
       "      <td>0.774670</td>\n",
       "      <td>0.040003</td>\n",
       "      <td>0.623841</td>\n",
       "      <td>0.601449</td>\n",
       "      <td>0.836774</td>\n",
       "      <td>0.290189</td>\n",
       "      <td>0.026555</td>\n",
       "      <td>0.563706</td>\n",
       "      <td>1</td>\n",
       "      <td>0.016474</td>\n",
       "    </tr>\n",
       "    <tr>\n",
       "      <th>3</th>\n",
       "      <td>1</td>\n",
       "      <td>0.399844</td>\n",
       "      <td>0.451265</td>\n",
       "      <td>0.457733</td>\n",
       "      <td>0.583541</td>\n",
       "      <td>0.583541</td>\n",
       "      <td>0.998700</td>\n",
       "      <td>0.796967</td>\n",
       "      <td>0.808966</td>\n",
       "      <td>0.303350</td>\n",
       "      <td>...</td>\n",
       "      <td>0.739555</td>\n",
       "      <td>0.003252</td>\n",
       "      <td>0.622929</td>\n",
       "      <td>0.583538</td>\n",
       "      <td>0.834697</td>\n",
       "      <td>0.281721</td>\n",
       "      <td>0.026697</td>\n",
       "      <td>0.564663</td>\n",
       "      <td>1</td>\n",
       "      <td>0.023982</td>\n",
       "    </tr>\n",
       "    <tr>\n",
       "      <th>4</th>\n",
       "      <td>1</td>\n",
       "      <td>0.465022</td>\n",
       "      <td>0.538432</td>\n",
       "      <td>0.522298</td>\n",
       "      <td>0.598783</td>\n",
       "      <td>0.598783</td>\n",
       "      <td>0.998973</td>\n",
       "      <td>0.797366</td>\n",
       "      <td>0.809304</td>\n",
       "      <td>0.303475</td>\n",
       "      <td>...</td>\n",
       "      <td>0.795016</td>\n",
       "      <td>0.003878</td>\n",
       "      <td>0.623521</td>\n",
       "      <td>0.598782</td>\n",
       "      <td>0.839973</td>\n",
       "      <td>0.278514</td>\n",
       "      <td>0.024752</td>\n",
       "      <td>0.575617</td>\n",
       "      <td>1</td>\n",
       "      <td>0.035490</td>\n",
       "    </tr>\n",
       "  </tbody>\n",
       "</table>\n",
       "<p>5 rows × 96 columns</p>\n",
       "</div>"
      ],
      "text/plain": [
       "   Bankrupt?   ROA(C) before interest and depreciation before interest  \\\n",
       "0          1                                           0.370594          \n",
       "1          1                                           0.464291          \n",
       "2          1                                           0.426071          \n",
       "3          1                                           0.399844          \n",
       "4          1                                           0.465022          \n",
       "\n",
       "    ROA(A) before interest and % after tax  \\\n",
       "0                                 0.424389   \n",
       "1                                 0.538214   \n",
       "2                                 0.499019   \n",
       "3                                 0.451265   \n",
       "4                                 0.538432   \n",
       "\n",
       "    ROA(B) before interest and depreciation after tax  \\\n",
       "0                                           0.405750    \n",
       "1                                           0.516730    \n",
       "2                                           0.472295    \n",
       "3                                           0.457733    \n",
       "4                                           0.522298    \n",
       "\n",
       "    operating gross margin   realized sales gross margin  \\\n",
       "0                 0.601457                      0.601457   \n",
       "1                 0.610235                      0.610235   \n",
       "2                 0.601450                      0.601364   \n",
       "3                 0.583541                      0.583541   \n",
       "4                 0.598783                      0.598783   \n",
       "\n",
       "    operating profit rate   tax Pre-net interest rate  \\\n",
       "0                0.998969                    0.796887   \n",
       "1                0.998946                    0.797380   \n",
       "2                0.998857                    0.796403   \n",
       "3                0.998700                    0.796967   \n",
       "4                0.998973                    0.797366   \n",
       "\n",
       "    after-tax net interest rate   non-industry income and expenditure/revenue  \\\n",
       "0                      0.808809                                      0.302646   \n",
       "1                      0.809301                                      0.303556   \n",
       "2                      0.808388                                      0.302035   \n",
       "3                      0.808966                                      0.303350   \n",
       "4                      0.809304                                      0.303475   \n",
       "\n",
       "   ...  net income to total assets  total assets to GNP price  \\\n",
       "0  ...                    0.716845                   0.009219   \n",
       "1  ...                    0.795297                   0.008323   \n",
       "2  ...                    0.774670                   0.040003   \n",
       "3  ...                    0.739555                   0.003252   \n",
       "4  ...                    0.795016                   0.003878   \n",
       "\n",
       "   No-credit interval  Gross profit to Sales  \\\n",
       "0            0.622879               0.601453   \n",
       "1            0.623652               0.610237   \n",
       "2            0.623841               0.601449   \n",
       "3            0.622929               0.583538   \n",
       "4            0.623521               0.598782   \n",
       "\n",
       "   Net income to stockholder's Equity  liability to equity  \\\n",
       "0                            0.827890             0.290202   \n",
       "1                            0.839969             0.283846   \n",
       "2                            0.836774             0.290189   \n",
       "3                            0.834697             0.281721   \n",
       "4                            0.839973             0.278514   \n",
       "\n",
       "   Degree of financial leverage (DFL)  \\\n",
       "0                            0.026601   \n",
       "1                            0.264577   \n",
       "2                            0.026555   \n",
       "3                            0.026697   \n",
       "4                            0.024752   \n",
       "\n",
       "   Interest coverage ratio( Interest expense to EBIT )  \\\n",
       "0                                           0.564050     \n",
       "1                                           0.570175     \n",
       "2                                           0.563706     \n",
       "3                                           0.564663     \n",
       "4                                           0.575617     \n",
       "\n",
       "   one if net income was negative for the last two year zero otherwise  \\\n",
       "0                                                  1                     \n",
       "1                                                  1                     \n",
       "2                                                  1                     \n",
       "3                                                  1                     \n",
       "4                                                  1                     \n",
       "\n",
       "   equity to liability  \n",
       "0             0.016469  \n",
       "1             0.020794  \n",
       "2             0.016474  \n",
       "3             0.023982  \n",
       "4             0.035490  \n",
       "\n",
       "[5 rows x 96 columns]"
      ]
     },
     "execution_count": 8,
     "metadata": {},
     "output_type": "execute_result"
    }
   ],
   "source": [
    "df.head()"
   ]
  },
  {
   "cell_type": "code",
   "execution_count": 9,
   "metadata": {},
   "outputs": [],
   "source": [
    "# ### Step 3-b: Read-in Data\n",
    "# Read-in the data using the panda\n",
    "#df = pd.read_csv('bankrupt_data.csv', encoding = 'latin-1')"
   ]
  },
  {
   "cell_type": "code",
   "execution_count": 10,
   "metadata": {},
   "outputs": [
    {
     "data": {
      "text/plain": [
       "(6819, 96)"
      ]
     },
     "execution_count": 10,
     "metadata": {},
     "output_type": "execute_result"
    }
   ],
   "source": [
    "#check row and columns\n",
    "df.shape"
   ]
  },
  {
   "cell_type": "code",
   "execution_count": 11,
   "metadata": {},
   "outputs": [
    {
     "name": "stdout",
     "output_type": "stream",
     "text": [
      "<class 'pandas.core.frame.DataFrame'>\n",
      "Int64Index: 6819 entries, 0 to 6818\n",
      "Data columns (total 96 columns):\n",
      " #   Column                                                               Non-Null Count  Dtype  \n",
      "---  ------                                                               --------------  -----  \n",
      " 0   Bankrupt?                                                            6819 non-null   int64  \n",
      " 1    ROA(C) before interest and depreciation before interest             6819 non-null   float64\n",
      " 2    ROA(A) before interest and % after tax                              6819 non-null   float64\n",
      " 3    ROA(B) before interest and depreciation after tax                   6819 non-null   float64\n",
      " 4    operating gross margin                                              6819 non-null   float64\n",
      " 5    realized sales gross margin                                         6819 non-null   float64\n",
      " 6    operating profit rate                                               6819 non-null   float64\n",
      " 7    tax Pre-net interest rate                                           6819 non-null   float64\n",
      " 8    after-tax net interest rate                                         6819 non-null   float64\n",
      " 9    non-industry income and expenditure/revenue                         6819 non-null   float64\n",
      " 10   continuous interest rate (after tax)                                6819 non-null   float64\n",
      " 11   operating expense rate                                              6819 non-null   float64\n",
      " 12   research and development expense rate                               6819 non-null   float64\n",
      " 13   cash flow rate                                                      6819 non-null   float64\n",
      " 14   interest-bearing debt interest rate                                 6819 non-null   float64\n",
      " 15   tax rate (A)                                                        6819 non-null   float64\n",
      " 16   per Net Share Value (B)                                             6819 non-null   float64\n",
      " 17   Net Value Per Share (A)                                             6819 non-null   float64\n",
      " 18   Net Value Per Share (C)                                             6819 non-null   float64\n",
      " 19   Persistent EPS in the Last Four Seasons                             6819 non-null   float64\n",
      " 20   Cash Flow Per Share                                                 6819 non-null   float64\n",
      " 21   Revenue Per Share (Yuan)                                            6819 non-null   float64\n",
      " 22   Operating Profit Per Share (Yuan)                                   6819 non-null   float64\n",
      " 23   Per Share Net profit before tax (yuan)                              6819 non-null   float64\n",
      " 24   realized sales gross profit growth rate                             6819 non-null   float64\n",
      " 25   operating profit growth rate                                        6819 non-null   float64\n",
      " 26   after-tax net profit growth rate                                    6819 non-null   float64\n",
      " 27   regular net profit growth rate                                      6819 non-null   float64\n",
      " 28   continuous net profit growth rate                                   6819 non-null   float64\n",
      " 29   total asset growth rate                                             6819 non-null   float64\n",
      " 30   net value growth rate                                               6819 non-null   float64\n",
      " 31   total asset return growth rate Ratio                                6819 non-null   float64\n",
      " 32   cash reinvestment %                                                 6819 non-null   float64\n",
      " 33   current ratio                                                       6819 non-null   float64\n",
      " 34   quick ratio                                                         6819 non-null   float64\n",
      " 35   interest expense ratio                                              6819 non-null   float64\n",
      " 36   total debt/total net worth                                          6819 non-null   float64\n",
      " 37   debt ratio %                                                        6819 non-null   float64\n",
      " 38   net worth/assets                                                    6819 non-null   float64\n",
      " 39   long-term fund suitability ratio (A)                                6819 non-null   float64\n",
      " 40   borrowing dependency                                                6819 non-null   float64\n",
      " 41   contingent liabilities/net worth                                    6819 non-null   float64\n",
      " 42   Operating profit/paid-in capital                                    6819 non-null   float64\n",
      " 43   net profit before tax/paid-in capital                               6819 non-null   float64\n",
      " 44   inventory and accounts receivable/net value                         6819 non-null   float64\n",
      " 45   total asset turnover                                                6819 non-null   float64\n",
      " 46   accounts receivable turnover                                        6819 non-null   float64\n",
      " 47   average collection days                                             6819 non-null   float64\n",
      " 48   inventory turnover rate (times)                                     6819 non-null   float64\n",
      " 49   fixed assets Turnover frequency                                     6819 non-null   float64\n",
      " 50   net worth turnover rate (times)                                     6819 non-null   float64\n",
      " 51   revenue per person                                                  6819 non-null   float64\n",
      " 52   operating profit per person                                         6819 non-null   float64\n",
      " 53   allocation rate per person                                          6819 non-null   float64\n",
      " 54   working capital to total assets                                     6819 non-null   float64\n",
      " 55  Quick asset/Total asset                                              6819 non-null   float64\n",
      " 56  current assets/total assets                                          6819 non-null   float64\n",
      " 57  cash / total assets                                                  6819 non-null   float64\n",
      " 58  Quick asset /current liabilities                                     6819 non-null   float64\n",
      " 59  cash / current liability                                             6819 non-null   float64\n",
      " 60  current liability to assets                                          6819 non-null   float64\n",
      " 61  operating funds to liability                                         6819 non-null   float64\n",
      " 62  Inventory/working capital                                            6819 non-null   float64\n",
      " 63  Inventory/current liability                                          6819 non-null   float64\n",
      " 64  current liability / liability                                        6819 non-null   float64\n",
      " 65  working capital/equity                                               6819 non-null   float64\n",
      " 66  current liability/equity                                             6819 non-null   float64\n",
      " 67  long-term liability to current assets                                6819 non-null   float64\n",
      " 68  Retained Earnings/Total assets                                       6819 non-null   float64\n",
      " 69  total income / total expense                                         6819 non-null   float64\n",
      " 70  total expense /assets                                                6819 non-null   float64\n",
      " 71   current asset turnover rate                                         6819 non-null   float64\n",
      " 72   quick asset turnover rate                                           6819 non-null   float64\n",
      " 73   working capitcal turnover rate                                      6819 non-null   float64\n",
      " 74   cash turnover rate                                                  6819 non-null   float64\n",
      " 75   Cash flow to Sales                                                  6819 non-null   float64\n",
      " 76   fix assets to assets                                                6819 non-null   float64\n",
      " 77   current liability to liability                                      6819 non-null   float64\n",
      " 78  current liability to equity                                          6819 non-null   float64\n",
      " 79  equity to long-term liability                                        6819 non-null   float64\n",
      " 80  Cash flow to total assets                                            6819 non-null   float64\n",
      " 81  cash flow to liability                                               6819 non-null   float64\n",
      " 82  CFO to ASSETS                                                        6819 non-null   float64\n",
      " 83  cash flow to equity                                                  6819 non-null   float64\n",
      " 84  current liabilities to current assets                                6819 non-null   float64\n",
      " 85  one if total liabilities exceeds total assets zero otherwise         6819 non-null   int64  \n",
      " 86  net income to total assets                                           6819 non-null   float64\n",
      " 87  total assets to GNP price                                            6819 non-null   float64\n",
      " 88  No-credit interval                                                   6819 non-null   float64\n",
      " 89  Gross profit to Sales                                                6819 non-null   float64\n",
      " 90  Net income to stockholder's Equity                                   6819 non-null   float64\n",
      " 91  liability to equity                                                  6819 non-null   float64\n",
      " 92  Degree of financial leverage (DFL)                                   6819 non-null   float64\n",
      " 93  Interest coverage ratio( Interest expense to EBIT )                  6819 non-null   float64\n",
      " 94  one if net income was negative for the last two year zero otherwise  6819 non-null   int64  \n",
      " 95  equity to liability                                                  6819 non-null   float64\n",
      "dtypes: float64(93), int64(3)\n",
      "memory usage: 5.0 MB\n"
     ]
    }
   ],
   "source": [
    "#check if there are missing values\n",
    "df.info()\n",
    "#There is no missing value"
   ]
  },
  {
   "cell_type": "code",
   "execution_count": 12,
   "metadata": {},
   "outputs": [],
   "source": [
    "#remove space from columns\n",
    "\n",
    "COLUMNS = df.columns.tolist()\n",
    "NO_SPACE_COLUMNS = [x.strip(' ') for x in COLUMNS]\n",
    "\n",
    "df.columns = NO_SPACE_COLUMNS"
   ]
  },
  {
   "cell_type": "code",
   "execution_count": 13,
   "metadata": {},
   "outputs": [],
   "source": [
    "#Since we have too many features, we will select some features that are meaningful using one of the feature selection methods, filter method.\n",
    "\n",
    "#step1. Remove the features that have a low correlation with the target value.\n",
    "\n",
    "#define funtions to get output features and an input feature.\n",
    "def get_X(df):\n",
    "    return(df.iloc[:,1:])\n",
    "\n",
    "def get_y(df):\n",
    "    return(df['Bankrupt?'])\n"
   ]
  },
  {
   "cell_type": "code",
   "execution_count": 14,
   "metadata": {},
   "outputs": [
    {
     "name": "stdout",
     "output_type": "stream",
     "text": [
      "net income to total assets                                -0.315457\n",
      "ROA(A) before interest and % after tax                    -0.282941\n",
      "ROA(B) before interest and depreciation after tax         -0.273051\n",
      "ROA(C) before interest and depreciation before interest   -0.260807\n",
      "net worth/assets                                          -0.250161\n",
      "                                                             ...   \n",
      "current liabilities to current assets                      0.171306\n",
      "borrowing dependency                                       0.176543\n",
      "current liability to assets                                0.194494\n",
      "equity to liability                                       -0.083048\n",
      "debt ratio %                                               0.250161\n",
      "Length: 95, dtype: float64\n"
     ]
    },
    {
     "data": {
      "image/png": "[encoded data removed]",
      "text/plain": [
       "<Figure size 1080x1080 with 1 Axes>"
      ]
     },
     "metadata": {
      "needs_background": "light"
     },
     "output_type": "display_data"
    }
   ],
   "source": [
    "X = get_X(df)\n",
    "y = get_y(df)\n",
    "\n",
    "importances = X.apply(lambda x:x.corr(y))\n",
    "indices = np.argsort(importances)\n",
    "print(importances[indices])\n",
    "\n",
    "COLUMNS = df.columns[1:]\n",
    "\n",
    "plt.figure(figsize = (15, 15))\n",
    "\n",
    "plt.title('correlation with Bankrupt')\n",
    "plt.barh(range(len(indices)), importances[indices], color='g', align='center')\n",
    "plt.yticks(range(len(indices)), [COLUMNS[i] for i in indices])\n",
    "plt.xlabel('Relative Importance')\n",
    "plt.show()"
   ]
  },
  {
   "cell_type": "code",
   "execution_count": 15,
   "metadata": {},
   "outputs": [
    {
     "name": "stdout",
     "output_type": "stream",
     "text": [
      "ROA(C) before interest and depreciation before interest\n",
      "ROA(A) before interest and % after tax\n",
      "ROA(B) before interest and depreciation after tax\n",
      "operating gross margin\n",
      "tax rate (A)\n",
      "per Net Share Value (B)\n",
      "Net Value Per Share (A)\n",
      "Net Value Per Share (C)\n",
      "Persistent EPS in the Last Four Seasons\n",
      "Operating Profit Per Share (Yuan)\n",
      "Per Share Net profit before tax (yuan)\n",
      "debt ratio %\n",
      "net worth/assets\n",
      "borrowing dependency\n",
      "Operating profit/paid-in capital\n",
      "net profit before tax/paid-in capital\n",
      "working capital to total assets\n",
      "cash / total assets\n",
      "current liability to assets\n",
      "working capital/equity\n",
      "current liability/equity\n",
      "Retained Earnings/Total assets\n",
      "total expense /assets\n",
      "current liability to equity\n",
      "equity to long-term liability\n",
      "CFO to ASSETS\n",
      "current liabilities to current assets\n",
      "one if total liabilities exceeds total assets zero otherwise\n",
      "net income to total assets\n",
      "Gross profit to Sales\n",
      "Net income to stockholder's Equity\n",
      "liability to equity\n",
      "32\n"
     ]
    }
   ],
   "source": [
    "#We will save the features that have a correlation higher than the absolute value of 0.10. Therefore, I will set the treshold to the absolute value of 0.10.\n",
    "high_corr_columns = []\n",
    "\n",
    "for i in range(0, len(indices)):\n",
    "    if np.abs(importances[i])>0.10:     \n",
    "        high_corr_columns.append(COLUMNS[i])\n",
    "        print(COLUMNS[i])\n",
    "\n",
    "print(len(high_corr_columns))\n",
    "\n",
    "X = df.loc[:, high_corr_columns]"
   ]
  },
  {
   "cell_type": "code",
   "execution_count": 16,
   "metadata": {},
   "outputs": [
    {
     "name": "stdout",
     "output_type": "stream",
     "text": [
      "21\n",
      "Index(['Bankrupt?', 'net income to total assets', 'Cash flow to total assets',\n",
      "       'tax Pre-net interest rate',\n",
      "       'inventory and accounts receivable/net value',\n",
      "       'ROA(C) before interest and depreciation before interest',\n",
      "       'operating gross margin', 'tax rate (A)', 'per Net Share Value (B)',\n",
      "       'Persistent EPS in the Last Four Seasons',\n",
      "       'Operating Profit Per Share (Yuan)', 'debt ratio %', 'net worth/assets',\n",
      "       'borrowing dependency', 'working capital to total assets',\n",
      "       'cash / total assets', 'current liability to assets',\n",
      "       'working capital/equity', 'current liability/equity',\n",
      "       'Retained Earnings/Total assets', 'total expense /assets',\n",
      "       'equity to long-term liability', 'CFO to ASSETS',\n",
      "       'current liabilities to current assets',\n",
      "       'one if total liabilities exceeds total assets zero otherwise',\n",
      "       'Net income to stockholder's Equity'],\n",
      "      dtype='object')\n",
      "(6819, 26)\n"
     ]
    }
   ],
   "source": [
    "#Step2: Remove the features that have a correlation higher than 90% with other independent variables.\n",
    "\n",
    "corr = X.corr()\n",
    "\n",
    "high_corr_columns_bool = np.full((corr.shape[0],), True, dtype=bool)\n",
    "\n",
    "for i in range(corr.shape[0]):\n",
    "    for j in range(i+1, corr.shape[0]):\n",
    "        if corr.iloc[i,j] >= 0.9:\n",
    "            if high_corr_columns_bool[j]:\n",
    "                high_corr_columns_bool[j] = False\n",
    "                \n",
    "selected_columns = X.columns[high_corr_columns_bool]\n",
    "\n",
    "print(len(selected_columns))\n",
    "#Now we only have 21 features. I will create a new df with these selected columns and the features that I think it's important.\n",
    "\n",
    "new_df = pd.concat([df[['Bankrupt?', 'net income to total assets', 'Cash flow to total assets', 'tax Pre-net interest rate', 'inventory and accounts receivable/net value']],X[selected_columns]], axis=1)\n",
    "print(new_df.columns)\n",
    "print(new_df.shape)\n",
    "\n",
    "#We have 25 features and target."
   ]
  },
  {
   "cell_type": "code",
   "execution_count": 17,
   "metadata": {},
   "outputs": [
    {
     "name": "stdout",
     "output_type": "stream",
     "text": [
      "TRAIN: [1104 1118 1132 ... 6816 6817 6818] TEST: [   0    1    2 ... 1383 1384 1385]\n",
      "TRAIN: [   0    1    2 ... 6816 6817 6818] TEST: [1104 1118 1132 ... 2796 2797 2798]\n",
      "TRAIN: [   0    1    2 ... 6816 6817 6818] TEST: [1860 1861 1862 ... 4136 4137 4138]\n",
      "TRAIN: [   0    1    2 ... 6816 6817 6818] TEST: [2100 2147 2148 ... 5475 5476 5477]\n",
      "TRAIN: [   0    1    2 ... 5475 5476 5477] TEST: [3749 3908 4071 ... 6816 6817 6818]\n"
     ]
    }
   ],
   "source": [
    "#split the dataset into training and test sets\n",
    "\n",
    "X = get_X(new_df)\n",
    "y = get_y(new_df)\n",
    "\n",
    "#use K-fold function to split data. 80% of the data will be training set and the rest of it will be test set.\n",
    "skf = StratifiedKFold(n_splits = 5, shuffle = False)\n",
    "\n",
    "for train_index, test_index in skf.split(X, y):\n",
    "    print(\"TRAIN:\", train_index, \"TEST:\", test_index)\n",
    "    Xtrain, Xtest = X.iloc[train_index], X.iloc[test_index]\n",
    "    ytrain, ytest = y.iloc[train_index], y.iloc[test_index]"
   ]
  },
  {
   "cell_type": "code",
   "execution_count": 18,
   "metadata": {},
   "outputs": [],
   "source": [
    "#export a training set and a test set as csv\n",
    "Xtrain.to_csv(r'C:\\Users\\jeongjaehui\\Documents\\Stats_404\\JEONG-JAEHEE\\bankrupt_training_set.csv', index = False, header=True)\n",
    "Xtest.to_csv(r'C:\\Users\\jeongjaehui\\Documents\\Stats_404\\JEONG-JAEHEE\\bankrupt_test_set.csv', index = False, header=True)"
   ]
  },
  {
   "cell_type": "code",
   "execution_count": 19,
   "metadata": {},
   "outputs": [
    {
     "data": {
      "text/plain": [
       "(5456, 25)"
      ]
     },
     "execution_count": 19,
     "metadata": {},
     "output_type": "execute_result"
    }
   ],
   "source": [
    "Xtrain.shape"
   ]
  },
  {
   "cell_type": "code",
   "execution_count": 20,
   "metadata": {},
   "outputs": [
    {
     "data": {
      "text/plain": [
       "(1363, 25)"
      ]
     },
     "execution_count": 20,
     "metadata": {},
     "output_type": "execute_result"
    }
   ],
   "source": [
    "Xtest.shape"
   ]
  },
  {
   "cell_type": "code",
   "execution_count": 21,
   "metadata": {},
   "outputs": [],
   "source": [
    "#splite the data into training and valiation sets\n",
    "\n",
    "X_train, X_val, y_train, y_val = train_test_split(Xtrain, ytrain, test_size = 0.1, random_state = 1,stratify = ytrain, shuffle = True)"
   ]
  },
  {
   "cell_type": "code",
   "execution_count": 22,
   "metadata": {},
   "outputs": [
    {
     "name": "stdout",
     "output_type": "stream",
     "text": [
      "              precision    recall  f1-score   support\n",
      "\n",
      "           0       1.00      0.83      0.91       528\n",
      "           1       0.16      0.94      0.27        18\n",
      "\n",
      "    accuracy                           0.84       546\n",
      "   macro avg       0.58      0.89      0.59       546\n",
      "weighted avg       0.97      0.84      0.89       546\n",
      "\n",
      "                 Predicted Nagative  Predicted Positive\n",
      "Actual Negative                 439                  89\n",
      "Actual Positive                   1                  17\n"
     ]
    }
   ],
   "source": [
    "#generate a logistics regression model\n",
    "\n",
    "log_reg = LogisticRegression(class_weight='balanced', max_iter=10000)\n",
    "log_model = log_reg.fit(X_train, y_train)\n",
    "log_pred = log_model.predict(X_val)\n",
    "\n",
    "#check a classification\n",
    "\n",
    "print(classification_report(y_val, log_pred))\n",
    "\n",
    "#defie a function to print confusion matrix\n",
    "def print_confusion_matrix(y_val, pred):\n",
    "    print(pd.DataFrame(confusion_matrix(y_val, pred), columns = ['Predicted Nagative', 'Predicted Positive'], index = ['Actual Negative', 'Actual Positive']))\n",
    "    \n",
    "print_confusion_matrix(y_val, log_pred)"
   ]
  },
  {
   "cell_type": "code",
   "execution_count": 23,
   "metadata": {},
   "outputs": [
    {
     "name": "stdout",
     "output_type": "stream",
     "text": [
      "              precision    recall  f1-score   support\n",
      "\n",
      "           0       1.00      0.92      0.96      1319\n",
      "           1       0.26      0.89      0.41        44\n",
      "\n",
      "    accuracy                           0.92      1363\n",
      "   macro avg       0.63      0.90      0.68      1363\n",
      "weighted avg       0.97      0.92      0.94      1363\n",
      "\n",
      "                 Predicted Nagative  Predicted Positive\n",
      "Actual Negative                1210                 109\n",
      "Actual Positive                   5                  39\n"
     ]
    }
   ],
   "source": [
    "log_pred = log_model.predict(Xtest)\n",
    "\n",
    "#check a classification & confusion matrix\n",
    "print(classification_report(ytest, log_pred))\n",
    "print_confusion_matrix(ytest, log_pred)"
   ]
  },
  {
   "cell_type": "code",
   "execution_count": 24,
   "metadata": {},
   "outputs": [],
   "source": [
    "#create a model using catboost\n",
    "cat = CatBoostClassifier(iterations=500,\n",
    "                           loss_function='Logloss',\n",
    "                           depth=6,\n",
    "                           l2_leaf_reg=1e-20,\n",
    "                           eval_metric='Accuracy',\n",
    "                           leaf_estimation_iterations=10,\n",
    "                           use_best_model=True,\n",
    "                           logging_level='Silent',\n",
    "                           random_seed=42,\n",
    "                           class_weights = (1, 30)\n",
    "                          )\n",
    "                          \n",
    "cat_model = cat.fit(X_train,y_train, eval_set = (X_val,y_val))\n",
    "cat_pred = cat_model.predict(X_val)"
   ]
  },
  {
   "cell_type": "code",
   "execution_count": 25,
   "metadata": {},
   "outputs": [
    {
     "name": "stdout",
     "output_type": "stream",
     "text": [
      "              precision    recall  f1-score   support\n",
      "\n",
      "           0       1.00      0.87      0.93       528\n",
      "           1       0.19      0.89      0.31        18\n",
      "\n",
      "    accuracy                           0.87       546\n",
      "   macro avg       0.59      0.88      0.62       546\n",
      "weighted avg       0.97      0.87      0.91       546\n",
      "\n",
      "                 Predicted Nagative  Predicted Positive\n",
      "Actual Negative                 460                  68\n",
      "Actual Positive                   2                  16\n"
     ]
    }
   ],
   "source": [
    "print(classification_report(y_val, cat_pred))\n",
    "print_confusion_matrix(y_val, cat_pred)"
   ]
  },
  {
   "cell_type": "code",
   "execution_count": 26,
   "metadata": {},
   "outputs": [
    {
     "name": "stdout",
     "output_type": "stream",
     "text": [
      "              precision    recall  f1-score   support\n",
      "\n",
      "           0       0.99      0.92      0.95      1319\n",
      "           1       0.26      0.84      0.39        44\n",
      "\n",
      "    accuracy                           0.92      1363\n",
      "   macro avg       0.62      0.88      0.67      1363\n",
      "weighted avg       0.97      0.92      0.94      1363\n",
      "\n",
      "                 Predicted Nagative  Predicted Positive\n",
      "Actual Negative                1211                 108\n",
      "Actual Positive                   7                  37\n"
     ]
    }
   ],
   "source": [
    "cat_pred = cat_model.predict(Xtest)\n",
    "\n",
    "print(classification_report(ytest, cat_pred))\n",
    "print_confusion_matrix(ytest, cat_pred)"
   ]
  },
  {
   "cell_type": "code",
   "execution_count": 27,
   "metadata": {},
   "outputs": [
    {
     "data": {
      "text/plain": [
       "(0.0, 1.0)"
      ]
     },
     "execution_count": 27,
     "metadata": {},
     "output_type": "execute_result"
    },
    {
     "data": {
      "image/png": "[encoded data removed]",
      "text/plain": [
       "<Figure size 432x288 with 1 Axes>"
      ]
     },
     "metadata": {
      "needs_background": "light"
     },
     "output_type": "display_data"
    }
   ],
   "source": [
    "#generate a precision recall curve to check if we can change the threshold to increase FalseNegative.\n",
    "\n",
    "probs = cat_model.predict_proba(Xtest)\n",
    "positive_probs = probs[:, 1]\n",
    "\n",
    "\n",
    "precision, recall, thresholds = precision_recall_curve(ytest, positive_probs) \n",
    "   #retrieve probability of being 1(in second column of probs_y)\n",
    "pr_auc = metrics.auc(recall, precision)\n",
    "\n",
    "plt.title(\"Precision-Recall vs Threshold Chart\")\n",
    "plt.plot(thresholds, precision[: -1], \"b--\", label=\"Precision\")\n",
    "plt.plot(thresholds, recall[: -1], \"r--\", label=\"Recall\")\n",
    "plt.ylabel(\"Precision, Recall\")\n",
    "plt.xlabel(\"Threshold\")\n",
    "plt.legend(loc=\"lower left\")\n",
    "plt.ylim([0,1])\n"
   ]
  },
  {
   "cell_type": "code",
   "execution_count": 28,
   "metadata": {},
   "outputs": [],
   "source": [
    "def cat_model_pred_prob_threshold_37(X_data):\n",
    "    return(np.where(cat_model.predict_proba(X_data)[:,1] > 0.37, 1, 0))\n",
    "\n",
    "thre_37_preds_cat = cat_model_pred_prob_threshold_37(X_val)"
   ]
  },
  {
   "cell_type": "code",
   "execution_count": 29,
   "metadata": {},
   "outputs": [
    {
     "name": "stdout",
     "output_type": "stream",
     "text": [
      "              precision    recall  f1-score   support\n",
      "\n",
      "           0       1.00      0.71      0.83       528\n",
      "           1       0.10      0.94      0.18        18\n",
      "\n",
      "    accuracy                           0.72       546\n",
      "   macro avg       0.55      0.83      0.50       546\n",
      "weighted avg       0.97      0.72      0.81       546\n",
      "\n",
      "                 Predicted Nagative  Predicted Positive\n",
      "Actual Negative                 374                 154\n",
      "Actual Positive                   1                  17\n"
     ]
    }
   ],
   "source": [
    "#check a classification\n",
    "print(classification_report(y_val, thre_37_preds_cat))\n",
    "print_confusion_matrix(y_val, thre_37_preds_cat)"
   ]
  },
  {
   "cell_type": "code",
   "execution_count": 30,
   "metadata": {},
   "outputs": [
    {
     "name": "stdout",
     "output_type": "stream",
     "text": [
      "              precision    recall  f1-score   support\n",
      "\n",
      "           0       1.00      0.82      0.90      1319\n",
      "           1       0.15      0.95      0.26        44\n",
      "\n",
      "    accuracy                           0.83      1363\n",
      "   macro avg       0.58      0.89      0.58      1363\n",
      "weighted avg       0.97      0.83      0.88      1363\n",
      "\n",
      "                 Predicted Nagative  Predicted Positive\n",
      "Actual Negative                1085                 234\n",
      "Actual Positive                   2                  42\n"
     ]
    }
   ],
   "source": [
    "thre_37_preds_cat = cat_model_pred_prob_threshold_37(Xtest)\n",
    "\n",
    "#check a classification\n",
    "print(classification_report(ytest, thre_37_preds_cat))\n",
    "print_confusion_matrix(ytest, thre_37_preds_cat)"
   ]
  },
  {
   "cell_type": "code",
   "execution_count": 31,
   "metadata": {},
   "outputs": [],
   "source": [
    "a = df[df['Bankrupt?']==1]\n",
    "a = a.mean()"
   ]
  },
  {
   "cell_type": "code",
   "execution_count": 32,
   "metadata": {},
   "outputs": [
    {
     "data": {
      "text/plain": [
       "0.08735370972159508"
      ]
     },
     "execution_count": 32,
     "metadata": {},
     "output_type": "execute_result"
    }
   ],
   "source": [
    "a['Operating Profit Per Share (Yuan)']"
   ]
  },
  {
   "cell_type": "code",
   "execution_count": 33,
   "metadata": {},
   "outputs": [],
   "source": [
    "# Specify location and name of object to contain estimated model:\n",
    "model_object_path = os.path.join(notebook_dir, 'cat_model.joblib')"
   ]
  },
  {
   "cell_type": "code",
   "execution_count": 34,
   "metadata": {},
   "outputs": [
    {
     "data": {
      "text/plain": [
       "['/Users/jeongjaehui/Documents/Stats_404/JEONG-JAEHEE/cat_model.joblib']"
      ]
     },
     "execution_count": 34,
     "metadata": {},
     "output_type": "execute_result"
    }
   ],
   "source": [
    "# Save estimated model to specified location:\n",
    "dump(cat_model, model_object_path)"
   ]
  },
  {
   "cell_type": "code",
   "execution_count": 35,
   "metadata": {},
   "outputs": [
    {
     "name": "stderr",
     "output_type": "stream",
     "text": [
      "INFO:__main__:--- Part 3: Upload Model Object to S3 Bucket\n",
      "INFO:__main__:    Loading Catboost model object\n",
      "INFO:__main__:    Uploading file: cat_model.joblib to S3 bucket = stats404-project-jaehee\n",
      "INFO:__main__:    Uploaded file: cat_model.joblib to S3 bucket = stats404-project-jaehee\n",
      "INFO:__main__:List of objects in bucket stats404-project-jaehee now:\n",
      "INFO:__main__:    bankrupt_data.csv\n",
      "INFO:__main__:    cat_model.joblib\n"
     ]
    }
   ],
   "source": [
    "if __name__ == '__main__':\n",
    "    \n",
    "    ### ---------------------------------------------------------------------------\n",
    "    ### --- Part 3: Upload Model Object to S3 Bucket\n",
    "    ### ---------------------------------------------------------------------------\n",
    "    LOGGER.info(\"--- Part 3: Upload Model Object to S3 Bucket\")\n",
    "    LOGGER.info(\"    Loading Catboost model object\")\n",
    "    cat_model = joblib.load(\"cat_model.joblib\")\n",
    "\n",
    "    # --- Specify name of file to be created on s3, to store this model object:\n",
    "    LOGGER.info(f\"    Uploading file: {KEY_NAME_MODEL} to S3 bucket = {BUCKET_NAME}\")\n",
    "    with s3_fs.open(f\"{BUCKET_NAME}/{KEY_NAME_MODEL}\", \"wb\") as file:\n",
    "        joblib.dump(cat_model, file)\n",
    "    LOGGER.info(f\"    Uploaded file: {KEY_NAME_MODEL} to S3 bucket = {BUCKET_NAME}\")\n",
    "    LOGGER.info(f\"List of objects in bucket {BUCKET_NAME} now:\")\n",
    "    for file in s3.Bucket(BUCKET_NAME).objects.all():\n",
    "        LOGGER.info(f\"    {file.key}\")"
   ]
  },
  {
   "cell_type": "code",
   "execution_count": null,
   "metadata": {},
   "outputs": [],
   "source": []
  }
 ],
 "metadata": {
  "kernelspec": {
   "display_name": "env-stats404-w20",
   "language": "python",
   "name": "env-stats404-w20"
  },
  "language_info": {
   "codemirror_mode": {
    "name": "ipython",
    "version": 3
   },
   "file_extension": ".py",
   "mimetype": "text/x-python",
   "name": "python",
   "nbconvert_exporter": "python",
   "pygments_lexer": "ipython3",
   "version": "3.8.5"
  }
 },
 "nbformat": 4,
 "nbformat_minor": 4
}