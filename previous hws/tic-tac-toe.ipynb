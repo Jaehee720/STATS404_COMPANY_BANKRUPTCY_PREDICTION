{
 "cells": [
  {
   "cell_type": "code",
   "execution_count": 79,
   "metadata": {},
   "outputs": [],
   "source": [
    "import random"
   ]
  },
  {
   "cell_type": "code",
   "execution_count": 80,
   "metadata": {},
   "outputs": [],
   "source": [
    "# define functions checking who wins the game\n",
    "def checking_winner(b):\n",
    "    if board['mid-M']== ' ':\n",
    "        if b == board['top-L'] == board['mid-L'] == board['low-L'] or b == board['top-L'] == board['top-M'] == board['top-R'] or b == board['top-R'] == board['mid-R'] == board['low-R'] or b == board['low-L'] == board['low-M'] == board['low-R']:\n",
    "            return b\n",
    "    else:\n",
    "        if b == board['top-L'] == board['mid-L'] == board['low-L'] or b == board['top-L'] == board['top-M'] == board['top-R'] or b == board['top-L'] == board['mid-M'] == board['low-R'] or b == board['top-M'] == board['mid-M'] == board['low-M'] or b == board['mid-L'] == board['mid-M'] == board['mid-R'] or b == board['top-R'] == board['mid-M'] == board['low-L'] or b == board['top-R'] == board['mid-R'] == board['low-R'] or b == board['low-L'] == board['low-M'] == board['low-R']:\n",
    "            return b "
   ]
  },
  {
   "cell_type": "code",
   "execution_count": 81,
   "metadata": {},
   "outputs": [],
   "source": [
    "count = 0;\n",
    "winner = []\n",
    "random.seed(0)\n",
    "\n",
    "#play 50,000 games using a while loop\n",
    "while (count < 50000) :\n",
    "    \n",
    "    count = count + 1\n",
    "    #set-up a Tic-Tac-Toe board as a dictionary\n",
    "    board = { 'top-L' : ' ', 'top-M' : ' ', 'top-R' : ' ',\n",
    "         'mid-L' : ' ', 'mid-M' : ' ', 'mid-R' : ' ', \n",
    "         'low-L' : ' ', 'low-M' : ' ', 'low-R' : ' '\n",
    "        }\n",
    "    \n",
    "    #choose random keys\n",
    "    key = random.sample(list(board.keys()),9)\n",
    "    board[key[0]] = 'X'\n",
    "    board[key[1]] = 'O'\n",
    "    board[key[2]] = 'X'\n",
    "    board[key[3]] = 'O'\n",
    "    \n",
    "    #use a for loop to check who wins, and then add the winner into the winner list\n",
    "    for i in range(4,9):\n",
    "        \n",
    "        #X plays\n",
    "        if i%2 == 0:\n",
    "            board[key[i]] = 'X'\n",
    "            a = checking_winner('X')\n",
    "            if a == 'X':\n",
    "                winner += a\n",
    "                break\n",
    "            elif i == 8:\n",
    "                winner += 't'\n",
    "                \n",
    "        #O plays\n",
    "        else:\n",
    "            board[key[i]] = 'O'\n",
    "            a = checking_winner('O')\n",
    "            if a == 'O':\n",
    "                winner += a\n",
    "                break"
   ]
  },
  {
   "cell_type": "code",
   "execution_count": 82,
   "metadata": {},
   "outputs": [
    {
     "name": "stdout",
     "output_type": "stream",
     "text": [
      "[0.58268, 0.28942, 0.1279]\n"
     ]
    }
   ],
   "source": [
    "#count the number of X, O, and a\n",
    "count_x = winner.count('X')\n",
    "count_o = winner.count('O')\n",
    "count_tie = winner.count('t')\n",
    "\n",
    "#calculate rate of wins for X, O and ties\n",
    "rate_x_to_o = [count_x/50000, count_o/50000,count_tie/50000]\n",
    "print(rate_x_to_o)"
   ]
  },
  {
   "cell_type": "markdown",
   "metadata": {},
   "source": [
    "I notice that X has a higher chance to win against O. It makes sense because of 3 reasons.\n",
    "First, X can mark the advantageous space, 'mid-M'. If X marks there, he/she already blocks 4 ways that O could win.\n",
    "Another reason is that X can have 3 spaces first. Since X starts, X will be the first person who has 3 spaces.\n",
    "The last reason is if nobody wins until 8 turns, X will be the person who takes the last space. It means that O plays one time less than X does.\n",
    "I think for these reasons, X has a much higher probability."
   ]
  }
 ],
 "metadata": {
  "kernelspec": {
   "display_name": "env-stats404-w20",
   "language": "python",
   "name": "env-stats404-w20"
  },
  "language_info": {
   "codemirror_mode": {
    "name": "ipython",
    "version": 3
   },
   "file_extension": ".py",
   "mimetype": "text/x-python",
   "name": "python",
   "nbconvert_exporter": "python",
   "pygments_lexer": "ipython3",
   "version": "3.9.1"
  }
 },
 "nbformat": 4,
 "nbformat_minor": 4
}
